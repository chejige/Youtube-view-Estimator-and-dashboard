{
  "nbformat": 4,
  "nbformat_minor": 0,
  "metadata": {
    "colab": {
      "provenance": [],
      "authorship_tag": "ABX9TyOq4/1yuXCpQqomWVb6bqsD",
      "include_colab_link": true
    },
    "kernelspec": {
      "name": "python3",
      "display_name": "Python 3"
    },
    "language_info": {
      "name": "python"
    }
  },
  "cells": [
    {
      "cell_type": "markdown",
      "metadata": {
        "id": "view-in-github",
        "colab_type": "text"
      },
      "source": [
        "<a href=\"https://colab.research.google.com/github/chejige/Youtube-view-Estimator-and-dashboard/blob/main/Views_Prediction.ipynb\" target=\"_parent\"><img src=\"https://colab.research.google.com/assets/colab-badge.svg\" alt=\"Open In Colab\"/></a>"
      ]
    },
    {
      "cell_type": "markdown",
      "source": [
        "#Youtube Views Prediction\n"
      ],
      "metadata": {
        "id": "F_ocShZGHdl-"
      }
    },
    {
      "cell_type": "markdown",
      "source": [
        "## Description\n",
        "###Objective\n",
        "Build model to predict video views based on statistical numbers and other attributes.\n",
        "\n",
        "###About dataset\n",
        "This dataset is obtained from API data scraping from youtube channel.\n",
        "\n",
        "###Main Instructions\n",
        "Exploratory analysis from the data, create some visualization to describe the data\n",
        "Describe the pre-processing steps, also the reason behind them\n",
        "Split the data into training and testing with optional portion\n",
        "Build the models with matching hyperparameter tune, choose the best model, also the reason behind that\n",
        "Test the model with data test"
      ],
      "metadata": {
        "id": "M_HykFM7GvA9"
      }
    },
    {
      "cell_type": "code",
      "source": [
        "import numpy as np\n",
        "import pandas as pd\n",
        "import seaborn as sns\n",
        "import matplotlib.pyplot as plt\n",
        "%matplotlib inline\n",
        "from sklearn.preprocessing import MinMaxScaler, StandardScaler\n",
        "from imblearn import over_sampling\n",
        "from datetime import datetime"
      ],
      "metadata": {
        "id": "OLbrIkCfHVMN"
      },
      "execution_count": 152,
      "outputs": []
    },
    {
      "cell_type": "markdown",
      "source": [
        "##Load and Describe Data"
      ],
      "metadata": {
        "id": "ycCsWdk0IC_s"
      }
    },
    {
      "cell_type": "code",
      "source": [
        "!pip install -U -q PyDrive\n",
        " \n",
        "from pydrive.auth import GoogleAuth\n",
        "from pydrive.drive import GoogleDrive\n",
        "from google.colab import auth\n",
        "from oauth2client.client import GoogleCredentials\n",
        " \n",
        " \n",
        "# Authenticate and create the PyDrive client.\n",
        "auth.authenticate_user()\n",
        "gauth = GoogleAuth()\n",
        "gauth.credentials = GoogleCredentials.get_application_default()\n",
        "drive = GoogleDrive(gauth)\n"
      ],
      "metadata": {
        "id": "uSiDhG9yH7p6"
      },
      "execution_count": 153,
      "outputs": []
    },
    {
      "cell_type": "code",
      "source": [
        "link = 'https://drive.google.com/file/d/1-4SI7wR7UQ1bPb6KGSHbcOkQnM99QaZe/view?usp=sharing'\n",
        " \n",
        " \n",
        "# to get the id part of the file\n",
        "id = link.split(\"/\")[-2]\n",
        " \n",
        "downloaded = drive.CreateFile({'id':id})\n",
        "downloaded.GetContentFile('df_multiplist.csv') \n",
        "df_raw = pd.read_csv('df_multiplist.csv',index_col=0)"
      ],
      "metadata": {
        "id": "ISpTn5G_IjBn"
      },
      "execution_count": 154,
      "outputs": []
    },
    {
      "cell_type": "code",
      "source": [
        "df_raw.head()"
      ],
      "metadata": {
        "colab": {
          "base_uri": "https://localhost:8080/",
          "height": 617
        },
        "id": "Ok7Va2-4JL9j",
        "outputId": "59ce2f1c-cca7-4c13-d102-c255d354746f"
      },
      "execution_count": 155,
      "outputs": [
        {
          "output_type": "execute_result",
          "data": {
            "text/plain": [
              "            ID                                              Title  \\\n",
              "0  Z3A3TQM5zZc  Live Stream - Mutual Information/AMA/Ukulele S...   \n",
              "1  khMzi6xPbuM  Introduction to Coding Neural Networks with Py...   \n",
              "2  CHOir6-ZpkE                  Three more lessons from my Pop!!!   \n",
              "3  AsNTP8Kwu80  Recurrent Neural Networks (RNNs), Clearly Expl...   \n",
              "4  80-Wpwf1_dg  The StatQuest Illustrated Guide To Machine Lea...   \n",
              "\n",
              "  Publish_date  viewer_count  like_count  comment_count  categroyID  \\\n",
              "0   2022-09-20          4119         186             15          27   \n",
              "1   2022-09-19          9432         407             44          27   \n",
              "2   2022-09-04          8307         373             71          27   \n",
              "3   2022-07-11         43389        1634            236          27   \n",
              "4   2022-05-09         23215         777            218          27   \n",
              "\n",
              "                                         description  duration  \\\n",
              "0  Mutual Information is a cool way to see how tw...  PT47M19S   \n",
              "1  Although we've seen how to code a simple neura...  PT20M43S   \n",
              "2  Since September 4th is Global Frank Starmer Da...   PT5M28S   \n",
              "3  When you don't always have the same amount of ...  PT16M37S   \n",
              "4  Because every StatQuest starts with a Silly So...     PT15S   \n",
              "\n",
              "                                         Links  \\\n",
              "0  https://www.youtube.com/watch?v=Z3A3TQM5zZc   \n",
              "1  https://www.youtube.com/watch?v=khMzi6xPbuM   \n",
              "2  https://www.youtube.com/watch?v=CHOir6-ZpkE   \n",
              "3  https://www.youtube.com/watch?v=AsNTP8Kwu80   \n",
              "4  https://www.youtube.com/watch?v=80-Wpwf1_dg   \n",
              "\n",
              "                                                tags  plist_num  \\\n",
              "0  ['StatQuest', 'Josh Starmer', 'Machine Learnin...        NaN   \n",
              "1  ['Josh Starmer', 'StatQuest', 'Machine Learnin...        NaN   \n",
              "2  ['Josh Starmer', 'StatQuest', 'Machine Learnin...        NaN   \n",
              "3  ['Josh Starmer', 'StatQuest', 'Machine Learnin...        3.0   \n",
              "4  ['Josh Starmer', 'StatQuest', 'Machine Learnin...        NaN   \n",
              "\n",
              "                            plist1            plist2     plist3 plist4 plist5  \n",
              "0                              NaN               NaN        NaN    NaN    NaN  \n",
              "1                              NaN               NaN        NaN    NaN    NaN  \n",
              "2                              NaN               NaN        NaN    NaN    NaN  \n",
              "3  Neural Networks / Deep Learning  Machine Learning  StatQuest    NaN    NaN  \n",
              "4                              NaN               NaN        NaN    NaN    NaN  "
            ],
            "text/html": [
              "\n",
              "  <div id=\"df-b1231537-e89c-4a7e-8984-f6b65ab6616d\">\n",
              "    <div class=\"colab-df-container\">\n",
              "      <div>\n",
              "<style scoped>\n",
              "    .dataframe tbody tr th:only-of-type {\n",
              "        vertical-align: middle;\n",
              "    }\n",
              "\n",
              "    .dataframe tbody tr th {\n",
              "        vertical-align: top;\n",
              "    }\n",
              "\n",
              "    .dataframe thead th {\n",
              "        text-align: right;\n",
              "    }\n",
              "</style>\n",
              "<table border=\"1\" class=\"dataframe\">\n",
              "  <thead>\n",
              "    <tr style=\"text-align: right;\">\n",
              "      <th></th>\n",
              "      <th>ID</th>\n",
              "      <th>Title</th>\n",
              "      <th>Publish_date</th>\n",
              "      <th>viewer_count</th>\n",
              "      <th>like_count</th>\n",
              "      <th>comment_count</th>\n",
              "      <th>categroyID</th>\n",
              "      <th>description</th>\n",
              "      <th>duration</th>\n",
              "      <th>Links</th>\n",
              "      <th>tags</th>\n",
              "      <th>plist_num</th>\n",
              "      <th>plist1</th>\n",
              "      <th>plist2</th>\n",
              "      <th>plist3</th>\n",
              "      <th>plist4</th>\n",
              "      <th>plist5</th>\n",
              "    </tr>\n",
              "  </thead>\n",
              "  <tbody>\n",
              "    <tr>\n",
              "      <th>0</th>\n",
              "      <td>Z3A3TQM5zZc</td>\n",
              "      <td>Live Stream - Mutual Information/AMA/Ukulele S...</td>\n",
              "      <td>2022-09-20</td>\n",
              "      <td>4119</td>\n",
              "      <td>186</td>\n",
              "      <td>15</td>\n",
              "      <td>27</td>\n",
              "      <td>Mutual Information is a cool way to see how tw...</td>\n",
              "      <td>PT47M19S</td>\n",
              "      <td>https://www.youtube.com/watch?v=Z3A3TQM5zZc</td>\n",
              "      <td>['StatQuest', 'Josh Starmer', 'Machine Learnin...</td>\n",
              "      <td>NaN</td>\n",
              "      <td>NaN</td>\n",
              "      <td>NaN</td>\n",
              "      <td>NaN</td>\n",
              "      <td>NaN</td>\n",
              "      <td>NaN</td>\n",
              "    </tr>\n",
              "    <tr>\n",
              "      <th>1</th>\n",
              "      <td>khMzi6xPbuM</td>\n",
              "      <td>Introduction to Coding Neural Networks with Py...</td>\n",
              "      <td>2022-09-19</td>\n",
              "      <td>9432</td>\n",
              "      <td>407</td>\n",
              "      <td>44</td>\n",
              "      <td>27</td>\n",
              "      <td>Although we've seen how to code a simple neura...</td>\n",
              "      <td>PT20M43S</td>\n",
              "      <td>https://www.youtube.com/watch?v=khMzi6xPbuM</td>\n",
              "      <td>['Josh Starmer', 'StatQuest', 'Machine Learnin...</td>\n",
              "      <td>NaN</td>\n",
              "      <td>NaN</td>\n",
              "      <td>NaN</td>\n",
              "      <td>NaN</td>\n",
              "      <td>NaN</td>\n",
              "      <td>NaN</td>\n",
              "    </tr>\n",
              "    <tr>\n",
              "      <th>2</th>\n",
              "      <td>CHOir6-ZpkE</td>\n",
              "      <td>Three more lessons from my Pop!!!</td>\n",
              "      <td>2022-09-04</td>\n",
              "      <td>8307</td>\n",
              "      <td>373</td>\n",
              "      <td>71</td>\n",
              "      <td>27</td>\n",
              "      <td>Since September 4th is Global Frank Starmer Da...</td>\n",
              "      <td>PT5M28S</td>\n",
              "      <td>https://www.youtube.com/watch?v=CHOir6-ZpkE</td>\n",
              "      <td>['Josh Starmer', 'StatQuest', 'Machine Learnin...</td>\n",
              "      <td>NaN</td>\n",
              "      <td>NaN</td>\n",
              "      <td>NaN</td>\n",
              "      <td>NaN</td>\n",
              "      <td>NaN</td>\n",
              "      <td>NaN</td>\n",
              "    </tr>\n",
              "    <tr>\n",
              "      <th>3</th>\n",
              "      <td>AsNTP8Kwu80</td>\n",
              "      <td>Recurrent Neural Networks (RNNs), Clearly Expl...</td>\n",
              "      <td>2022-07-11</td>\n",
              "      <td>43389</td>\n",
              "      <td>1634</td>\n",
              "      <td>236</td>\n",
              "      <td>27</td>\n",
              "      <td>When you don't always have the same amount of ...</td>\n",
              "      <td>PT16M37S</td>\n",
              "      <td>https://www.youtube.com/watch?v=AsNTP8Kwu80</td>\n",
              "      <td>['Josh Starmer', 'StatQuest', 'Machine Learnin...</td>\n",
              "      <td>3.0</td>\n",
              "      <td>Neural Networks / Deep Learning</td>\n",
              "      <td>Machine Learning</td>\n",
              "      <td>StatQuest</td>\n",
              "      <td>NaN</td>\n",
              "      <td>NaN</td>\n",
              "    </tr>\n",
              "    <tr>\n",
              "      <th>4</th>\n",
              "      <td>80-Wpwf1_dg</td>\n",
              "      <td>The StatQuest Illustrated Guide To Machine Lea...</td>\n",
              "      <td>2022-05-09</td>\n",
              "      <td>23215</td>\n",
              "      <td>777</td>\n",
              "      <td>218</td>\n",
              "      <td>27</td>\n",
              "      <td>Because every StatQuest starts with a Silly So...</td>\n",
              "      <td>PT15S</td>\n",
              "      <td>https://www.youtube.com/watch?v=80-Wpwf1_dg</td>\n",
              "      <td>['Josh Starmer', 'StatQuest', 'Machine Learnin...</td>\n",
              "      <td>NaN</td>\n",
              "      <td>NaN</td>\n",
              "      <td>NaN</td>\n",
              "      <td>NaN</td>\n",
              "      <td>NaN</td>\n",
              "      <td>NaN</td>\n",
              "    </tr>\n",
              "  </tbody>\n",
              "</table>\n",
              "</div>\n",
              "      <button class=\"colab-df-convert\" onclick=\"convertToInteractive('df-b1231537-e89c-4a7e-8984-f6b65ab6616d')\"\n",
              "              title=\"Convert this dataframe to an interactive table.\"\n",
              "              style=\"display:none;\">\n",
              "        \n",
              "  <svg xmlns=\"http://www.w3.org/2000/svg\" height=\"24px\"viewBox=\"0 0 24 24\"\n",
              "       width=\"24px\">\n",
              "    <path d=\"M0 0h24v24H0V0z\" fill=\"none\"/>\n",
              "    <path d=\"M18.56 5.44l.94 2.06.94-2.06 2.06-.94-2.06-.94-.94-2.06-.94 2.06-2.06.94zm-11 1L8.5 8.5l.94-2.06 2.06-.94-2.06-.94L8.5 2.5l-.94 2.06-2.06.94zm10 10l.94 2.06.94-2.06 2.06-.94-2.06-.94-.94-2.06-.94 2.06-2.06.94z\"/><path d=\"M17.41 7.96l-1.37-1.37c-.4-.4-.92-.59-1.43-.59-.52 0-1.04.2-1.43.59L10.3 9.45l-7.72 7.72c-.78.78-.78 2.05 0 2.83L4 21.41c.39.39.9.59 1.41.59.51 0 1.02-.2 1.41-.59l7.78-7.78 2.81-2.81c.8-.78.8-2.07 0-2.86zM5.41 20L4 18.59l7.72-7.72 1.47 1.35L5.41 20z\"/>\n",
              "  </svg>\n",
              "      </button>\n",
              "      \n",
              "  <style>\n",
              "    .colab-df-container {\n",
              "      display:flex;\n",
              "      flex-wrap:wrap;\n",
              "      gap: 12px;\n",
              "    }\n",
              "\n",
              "    .colab-df-convert {\n",
              "      background-color: #E8F0FE;\n",
              "      border: none;\n",
              "      border-radius: 50%;\n",
              "      cursor: pointer;\n",
              "      display: none;\n",
              "      fill: #1967D2;\n",
              "      height: 32px;\n",
              "      padding: 0 0 0 0;\n",
              "      width: 32px;\n",
              "    }\n",
              "\n",
              "    .colab-df-convert:hover {\n",
              "      background-color: #E2EBFA;\n",
              "      box-shadow: 0px 1px 2px rgba(60, 64, 67, 0.3), 0px 1px 3px 1px rgba(60, 64, 67, 0.15);\n",
              "      fill: #174EA6;\n",
              "    }\n",
              "\n",
              "    [theme=dark] .colab-df-convert {\n",
              "      background-color: #3B4455;\n",
              "      fill: #D2E3FC;\n",
              "    }\n",
              "\n",
              "    [theme=dark] .colab-df-convert:hover {\n",
              "      background-color: #434B5C;\n",
              "      box-shadow: 0px 1px 3px 1px rgba(0, 0, 0, 0.15);\n",
              "      filter: drop-shadow(0px 1px 2px rgba(0, 0, 0, 0.3));\n",
              "      fill: #FFFFFF;\n",
              "    }\n",
              "  </style>\n",
              "\n",
              "      <script>\n",
              "        const buttonEl =\n",
              "          document.querySelector('#df-b1231537-e89c-4a7e-8984-f6b65ab6616d button.colab-df-convert');\n",
              "        buttonEl.style.display =\n",
              "          google.colab.kernel.accessAllowed ? 'block' : 'none';\n",
              "\n",
              "        async function convertToInteractive(key) {\n",
              "          const element = document.querySelector('#df-b1231537-e89c-4a7e-8984-f6b65ab6616d');\n",
              "          const dataTable =\n",
              "            await google.colab.kernel.invokeFunction('convertToInteractive',\n",
              "                                                     [key], {});\n",
              "          if (!dataTable) return;\n",
              "\n",
              "          const docLinkHtml = 'Like what you see? Visit the ' +\n",
              "            '<a target=\"_blank\" href=https://colab.research.google.com/notebooks/data_table.ipynb>data table notebook</a>'\n",
              "            + ' to learn more about interactive tables.';\n",
              "          element.innerHTML = '';\n",
              "          dataTable['output_type'] = 'display_data';\n",
              "          await google.colab.output.renderOutput(dataTable, element);\n",
              "          const docLink = document.createElement('div');\n",
              "          docLink.innerHTML = docLinkHtml;\n",
              "          element.appendChild(docLink);\n",
              "        }\n",
              "      </script>\n",
              "    </div>\n",
              "  </div>\n",
              "  "
            ]
          },
          "metadata": {},
          "execution_count": 155
        }
      ]
    },
    {
      "cell_type": "code",
      "source": [
        "df=df_raw.copy()"
      ],
      "metadata": {
        "id": "vsomVzswQyuA"
      },
      "execution_count": 156,
      "outputs": []
    },
    {
      "cell_type": "code",
      "source": [
        "df.info()"
      ],
      "metadata": {
        "colab": {
          "base_uri": "https://localhost:8080/"
        },
        "id": "27SRKzA9JNET",
        "outputId": "a638e814-e242-4dd5-f130-b8d08c5daae3"
      },
      "execution_count": 157,
      "outputs": [
        {
          "output_type": "stream",
          "name": "stdout",
          "text": [
            "<class 'pandas.core.frame.DataFrame'>\n",
            "Int64Index: 221 entries, 0 to 220\n",
            "Data columns (total 17 columns):\n",
            " #   Column         Non-Null Count  Dtype  \n",
            "---  ------         --------------  -----  \n",
            " 0   ID             221 non-null    object \n",
            " 1   Title          221 non-null    object \n",
            " 2   Publish_date   221 non-null    object \n",
            " 3   viewer_count   221 non-null    int64  \n",
            " 4   like_count     221 non-null    int64  \n",
            " 5   comment_count  221 non-null    int64  \n",
            " 6   categroyID     221 non-null    int64  \n",
            " 7   description    221 non-null    object \n",
            " 8   duration       221 non-null    object \n",
            " 9   Links          221 non-null    object \n",
            " 10  tags           221 non-null    object \n",
            " 11  plist_num      188 non-null    float64\n",
            " 12  plist1         188 non-null    object \n",
            " 13  plist2         144 non-null    object \n",
            " 14  plist3         99 non-null     object \n",
            " 15  plist4         41 non-null     object \n",
            " 16  plist5         2 non-null      object \n",
            "dtypes: float64(1), int64(4), object(12)\n",
            "memory usage: 31.1+ KB\n"
          ]
        }
      ]
    },
    {
      "cell_type": "markdown",
      "source": [
        "###Conclusion</br>\n",
        "\n",
        "*   Dataframe have 17 columns and 221 rows\n",
        "*   Total categorical columns are 16 columns and 5 columns for numerical columns\n",
        "*   views column is the target for this dataset\n",
        "*   Description has no meaning, can change to length of description. \n",
        "*   Duration is not numerical value, need to change.\n",
        "*   Publishdata also is not timedata format.\n",
        "*   Can have one more column--time after published\n",
        "*   Can have one more column--Tag number\n",
        "\n",
        "\n",
        "\n",
        "\n",
        "\n",
        "\n",
        "\n",
        "\n"
      ],
      "metadata": {
        "id": "M4stUdq1Ka51"
      }
    },
    {
      "cell_type": "code",
      "source": [],
      "metadata": {
        "id": "Aj4uXNuSJvC_"
      },
      "execution_count": 157,
      "outputs": []
    },
    {
      "cell_type": "markdown",
      "source": [
        "##Data pre-cleaning"
      ],
      "metadata": {
        "id": "uu8ttiNOLMBa"
      }
    },
    {
      "cell_type": "code",
      "source": [
        "#change pbulish date to datetime format\n",
        "df['Publish_date']=df['Publish_date'].apply(lambda x: datetime.strptime(x,'%Y-%m-%d'))"
      ],
      "metadata": {
        "id": "nP7I6-v2Mivo"
      },
      "execution_count": 158,
      "outputs": []
    },
    {
      "cell_type": "code",
      "source": [
        "# change to length of description\n",
        "df['description']=df['description'].apply(lambda x: len(x.strip()))"
      ],
      "metadata": {
        "id": "CypwzJsCM8GD"
      },
      "execution_count": 159,
      "outputs": []
    },
    {
      "cell_type": "code",
      "source": [
        "df['description']"
      ],
      "metadata": {
        "colab": {
          "base_uri": "https://localhost:8080/"
        },
        "id": "-_PnVSE7Neds",
        "outputId": "efab5b3a-abd0-4c76-e2ca-3c65bda80e0a"
      },
      "execution_count": 160,
      "outputs": [
        {
          "output_type": "execute_result",
          "data": {
            "text/plain": [
              "0      1239\n",
              "1      1792\n",
              "2      1798\n",
              "3      2061\n",
              "4      1006\n",
              "5      2324\n",
              "6      1537\n",
              "7      1094\n",
              "8      2109\n",
              "9      1794\n",
              "10     1561\n",
              "11     1093\n",
              "12      234\n",
              "13      234\n",
              "14     1214\n",
              "15     1681\n",
              "16     1815\n",
              "17     1257\n",
              "18     1430\n",
              "19     1684\n",
              "20     1895\n",
              "21     1859\n",
              "22     2732\n",
              "23     1245\n",
              "24     1445\n",
              "25     1988\n",
              "26     1639\n",
              "27     1351\n",
              "28     1932\n",
              "29     1697\n",
              "30     1679\n",
              "31     1402\n",
              "32     1577\n",
              "33     1659\n",
              "34     1671\n",
              "35     1575\n",
              "36     1854\n",
              "37     1947\n",
              "38     1851\n",
              "39     1602\n",
              "40     1616\n",
              "41     1922\n",
              "42     2018\n",
              "43     1494\n",
              "44     1907\n",
              "45     1866\n",
              "46     1895\n",
              "47     1453\n",
              "48     1849\n",
              "49     1639\n",
              "50     1521\n",
              "51     1006\n",
              "52     1417\n",
              "53     1009\n",
              "54     1169\n",
              "55     1849\n",
              "56     1663\n",
              "57     1796\n",
              "58     1272\n",
              "59     1339\n",
              "60     1343\n",
              "61     1787\n",
              "62     1618\n",
              "63     1230\n",
              "64      891\n",
              "65     1669\n",
              "66      840\n",
              "67     2440\n",
              "68     1149\n",
              "69     1136\n",
              "70     1450\n",
              "71     2036\n",
              "72     1202\n",
              "73     2355\n",
              "74     1365\n",
              "75     1949\n",
              "76     1859\n",
              "77     1735\n",
              "78     2095\n",
              "79     2044\n",
              "80     2071\n",
              "81     1904\n",
              "82     1531\n",
              "83     1733\n",
              "84     2206\n",
              "85     1618\n",
              "86     2173\n",
              "87     3246\n",
              "88     2192\n",
              "89     1241\n",
              "90     4163\n",
              "91     2603\n",
              "92     1483\n",
              "93     2099\n",
              "94     1728\n",
              "95     2353\n",
              "96     1262\n",
              "97     1432\n",
              "98     1624\n",
              "99     1333\n",
              "100    1941\n",
              "101    1007\n",
              "102    1770\n",
              "103    1316\n",
              "104    1917\n",
              "105    1307\n",
              "106    1274\n",
              "107    2020\n",
              "108    1880\n",
              "109    1690\n",
              "110    1295\n",
              "111    2673\n",
              "112    1429\n",
              "113    1362\n",
              "114    1090\n",
              "115    1292\n",
              "116    2447\n",
              "117    1046\n",
              "118    1397\n",
              "119     968\n",
              "120    1776\n",
              "121    1544\n",
              "122    1299\n",
              "123    2001\n",
              "124     929\n",
              "125    1612\n",
              "126    1153\n",
              "127    1039\n",
              "128    1291\n",
              "129    1335\n",
              "130    1067\n",
              "131    1458\n",
              "132    2158\n",
              "133     982\n",
              "134    1589\n",
              "135    1320\n",
              "136     991\n",
              "137    1573\n",
              "138    2252\n",
              "139    1727\n",
              "140    1250\n",
              "141    1563\n",
              "142    1054\n",
              "143    1346\n",
              "144    1409\n",
              "145    1559\n",
              "146    1109\n",
              "147    1214\n",
              "148    1204\n",
              "149    1934\n",
              "150    1175\n",
              "151     984\n",
              "152    1339\n",
              "153    1503\n",
              "154    1261\n",
              "155    1206\n",
              "156    1126\n",
              "157    1209\n",
              "158    1087\n",
              "159    1226\n",
              "160    2170\n",
              "161    1152\n",
              "162    1152\n",
              "163    1338\n",
              "164    1395\n",
              "165    1248\n",
              "166    1590\n",
              "167    1164\n",
              "168    1670\n",
              "169    1061\n",
              "170    1006\n",
              "171    1099\n",
              "172    1289\n",
              "173    1242\n",
              "174    1113\n",
              "175    1091\n",
              "176     992\n",
              "177    1130\n",
              "178    1036\n",
              "179     939\n",
              "180    1109\n",
              "181    1054\n",
              "182    1082\n",
              "183     811\n",
              "184    1659\n",
              "185    1255\n",
              "186    1320\n",
              "187    1192\n",
              "188     811\n",
              "189    1009\n",
              "190    1083\n",
              "191    1020\n",
              "192    1019\n",
              "193    1118\n",
              "194    1000\n",
              "195     872\n",
              "196    1497\n",
              "197     811\n",
              "198    1205\n",
              "199     872\n",
              "200     866\n",
              "201     866\n",
              "202    1568\n",
              "203     872\n",
              "204     872\n",
              "205     869\n",
              "206     922\n",
              "207    1148\n",
              "208    1685\n",
              "209    1709\n",
              "210    1108\n",
              "211    1770\n",
              "212    1052\n",
              "213    1047\n",
              "214     984\n",
              "215     907\n",
              "216    1178\n",
              "217     883\n",
              "218    1053\n",
              "219     921\n",
              "220     885\n",
              "Name: description, dtype: int64"
            ]
          },
          "metadata": {},
          "execution_count": 160
        }
      ]
    },
    {
      "cell_type": "code",
      "source": [
        "# change duration to min (ignore sencond)\n",
        "df['duration']=df['duration'].apply(lambda x:'1' if \"S\" in x.split('M')[0].replace('PT','') else x.split('M')[0].replace('PT','') )\n",
        "df['duration']=df['duration'].apply(lambda x:(int(x.split('H')[0])*60+int(x.split('H')[1])) if \"H\" in x else int(x) )"
      ],
      "metadata": {
        "id": "u3vjwowUOGtG"
      },
      "execution_count": 161,
      "outputs": []
    },
    {
      "cell_type": "code",
      "source": [
        "pd.options.display.max_rows = 999\n",
        "df['duration']"
      ],
      "metadata": {
        "colab": {
          "base_uri": "https://localhost:8080/"
        },
        "id": "jll4kreJPdk-",
        "outputId": "10647f33-e4d0-4360-fe5c-ac584640035c"
      },
      "execution_count": 162,
      "outputs": [
        {
          "output_type": "execute_result",
          "data": {
            "text/plain": [
              "0      47\n",
              "1      20\n",
              "2       5\n",
              "3      16\n",
              "4       1\n",
              "5      23\n",
              "6       5\n",
              "7       1\n",
              "8      16\n",
              "9      18\n",
              "10      9\n",
              "11      1\n",
              "12      1\n",
              "13      1\n",
              "14      9\n",
              "15      6\n",
              "16     16\n",
              "17     14\n",
              "18     10\n",
              "19      8\n",
              "20      9\n",
              "21      6\n",
              "22     19\n",
              "23     11\n",
              "24      5\n",
              "25     18\n",
              "26      3\n",
              "27     13\n",
              "28     15\n",
              "29     22\n",
              "30      9\n",
              "31      7\n",
              "32     14\n",
              "33     13\n",
              "34      8\n",
              "35      8\n",
              "36     13\n",
              "37     18\n",
              "38     17\n",
              "39     15\n",
              "40     18\n",
              "41     56\n",
              "42     73\n",
              "43     18\n",
              "44     14\n",
              "45      9\n",
              "46     44\n",
              "47     32\n",
              "48     66\n",
              "49      9\n",
              "50     15\n",
              "51     31\n",
              "52      9\n",
              "53     30\n",
              "54     24\n",
              "55     16\n",
              "56      8\n",
              "57     13\n",
              "58     33\n",
              "59     36\n",
              "60      2\n",
              "61     25\n",
              "62     11\n",
              "63     38\n",
              "64     35\n",
              "65     24\n",
              "66     37\n",
              "67     27\n",
              "68     36\n",
              "69     28\n",
              "70     11\n",
              "71     25\n",
              "72     24\n",
              "73     25\n",
              "74     11\n",
              "75     16\n",
              "76     15\n",
              "77      7\n",
              "78     20\n",
              "79     22\n",
              "80     19\n",
              "81     22\n",
              "82     17\n",
              "83     14\n",
              "84     16\n",
              "85     14\n",
              "86     10\n",
              "87     37\n",
              "88     17\n",
              "89      3\n",
              "90     26\n",
              "91     15\n",
              "92      3\n",
              "93     23\n",
              "94      3\n",
              "95     20\n",
              "96     14\n",
              "97      4\n",
              "98     15\n",
              "99      3\n",
              "100    12\n",
              "101     2\n",
              "102     7\n",
              "103    17\n",
              "104     5\n",
              "105     8\n",
              "106     3\n",
              "107    20\n",
              "108     6\n",
              "109    19\n",
              "110     7\n",
              "111     2\n",
              "112    11\n",
              "113    15\n",
              "114     2\n",
              "115     9\n",
              "116    17\n",
              "117     6\n",
              "118    18\n",
              "119     3\n",
              "120    16\n",
              "121    15\n",
              "122    10\n",
              "123    19\n",
              "124     3\n",
              "125     8\n",
              "126    11\n",
              "127     2\n",
              "128     6\n",
              "129     8\n",
              "130     1\n",
              "131     8\n",
              "132    21\n",
              "133     3\n",
              "134     5\n",
              "135     8\n",
              "136     3\n",
              "137    15\n",
              "138     9\n",
              "139     3\n",
              "140     5\n",
              "141    11\n",
              "142     3\n",
              "143     7\n",
              "144     8\n",
              "145     6\n",
              "146     2\n",
              "147     8\n",
              "148     4\n",
              "149     6\n",
              "150     6\n",
              "151     3\n",
              "152     7\n",
              "153     5\n",
              "154     6\n",
              "155     5\n",
              "156     5\n",
              "157     8\n",
              "158     3\n",
              "159     3\n",
              "160    11\n",
              "161     3\n",
              "162    18\n",
              "163     8\n",
              "164    11\n",
              "165     3\n",
              "166     6\n",
              "167     5\n",
              "168    27\n",
              "169     3\n",
              "170     2\n",
              "171     3\n",
              "172     5\n",
              "173    11\n",
              "174    10\n",
              "175     3\n",
              "176     9\n",
              "177    21\n",
              "178     3\n",
              "179     2\n",
              "180     7\n",
              "181     5\n",
              "182    14\n",
              "183     3\n",
              "184    12\n",
              "185     2\n",
              "186     5\n",
              "187     5\n",
              "188     3\n",
              "189     1\n",
              "190    15\n",
              "191     6\n",
              "192     3\n",
              "193    18\n",
              "194     4\n",
              "195     3\n",
              "196    15\n",
              "197     3\n",
              "198    19\n",
              "199     3\n",
              "200     3\n",
              "201     3\n",
              "202    15\n",
              "203     3\n",
              "204     4\n",
              "205     2\n",
              "206     3\n",
              "207    16\n",
              "208     2\n",
              "209     2\n",
              "210    12\n",
              "211    20\n",
              "212    10\n",
              "213     6\n",
              "214     1\n",
              "215     3\n",
              "216    11\n",
              "217     1\n",
              "218    11\n",
              "219     1\n",
              "220     1\n",
              "Name: duration, dtype: int64"
            ]
          },
          "metadata": {},
          "execution_count": 162
        }
      ]
    },
    {
      "cell_type": "code",
      "source": [
        "#add one more column 'publish_time' (how many month of videos after published)\n",
        "today = datetime.today()\n",
        "df['publish_time']=today-df['Publish_date']\n",
        "df['publish_time']=df['publish_time'].apply(lambda x:int(str(x).split(' ')[0]))"
      ],
      "metadata": {
        "id": "TUaM8yAbOH0Q"
      },
      "execution_count": 163,
      "outputs": []
    },
    {
      "cell_type": "code",
      "source": [
        "# add tag numbers columns\n",
        "df['tag_num']=df['tags'].apply(lambda x:len(x.split(',')))"
      ],
      "metadata": {
        "id": "2V7mYyYFZB8C"
      },
      "execution_count": 164,
      "outputs": []
    },
    {
      "cell_type": "code",
      "source": [
        "# remove invalent columns\n",
        "df=df.drop(['ID','Title','Links','tags'],axis=1)"
      ],
      "metadata": {
        "id": "YUkNchSxaXXE"
      },
      "execution_count": 165,
      "outputs": []
    },
    {
      "cell_type": "code",
      "source": [
        "df_pre=df.copy()"
      ],
      "metadata": {
        "id": "6WRaiqT4NgY4"
      },
      "execution_count": 166,
      "outputs": []
    },
    {
      "cell_type": "code",
      "source": [
        "df_pre.info()"
      ],
      "metadata": {
        "colab": {
          "base_uri": "https://localhost:8080/"
        },
        "id": "jO2sw8MGNtNf",
        "outputId": "a70b2ed2-708c-471d-b5a4-4eccda33b8c5"
      },
      "execution_count": 167,
      "outputs": [
        {
          "output_type": "stream",
          "name": "stdout",
          "text": [
            "<class 'pandas.core.frame.DataFrame'>\n",
            "Int64Index: 221 entries, 0 to 220\n",
            "Data columns (total 15 columns):\n",
            " #   Column         Non-Null Count  Dtype         \n",
            "---  ------         --------------  -----         \n",
            " 0   Publish_date   221 non-null    datetime64[ns]\n",
            " 1   viewer_count   221 non-null    int64         \n",
            " 2   like_count     221 non-null    int64         \n",
            " 3   comment_count  221 non-null    int64         \n",
            " 4   categroyID     221 non-null    int64         \n",
            " 5   description    221 non-null    int64         \n",
            " 6   duration       221 non-null    int64         \n",
            " 7   plist_num      188 non-null    float64       \n",
            " 8   plist1         188 non-null    object        \n",
            " 9   plist2         144 non-null    object        \n",
            " 10  plist3         99 non-null     object        \n",
            " 11  plist4         41 non-null     object        \n",
            " 12  plist5         2 non-null      object        \n",
            " 13  publish_time   221 non-null    int64         \n",
            " 14  tag_num        221 non-null    int64         \n",
            "dtypes: datetime64[ns](1), float64(1), int64(8), object(5)\n",
            "memory usage: 27.6+ KB\n"
          ]
        }
      ]
    },
    {
      "cell_type": "markdown",
      "source": [
        "##Exploratory Data Analysis\n",
        "###Statistical Summary"
      ],
      "metadata": {
        "id": "if7K6uwFHamN"
      }
    },
    {
      "cell_type": "code",
      "source": [
        "df_pre.columns"
      ],
      "metadata": {
        "colab": {
          "base_uri": "https://localhost:8080/"
        },
        "id": "Kp8Cmff_KUcs",
        "outputId": "67a903c3-a54b-457e-9413-3246a7d5746d"
      },
      "execution_count": 168,
      "outputs": [
        {
          "output_type": "execute_result",
          "data": {
            "text/plain": [
              "Index(['Publish_date', 'viewer_count', 'like_count', 'comment_count',\n",
              "       'categroyID', 'description', 'duration', 'plist_num', 'plist1',\n",
              "       'plist2', 'plist3', 'plist4', 'plist5', 'publish_time', 'tag_num'],\n",
              "      dtype='object')"
            ]
          },
          "metadata": {},
          "execution_count": 168
        }
      ]
    },
    {
      "cell_type": "code",
      "source": [
        "#Separation of Categorical and Numerical Data\n",
        "cats=['plist1','plist2','plist3','plist4','plist5']\n",
        "nums=['viewer_count', 'like_count', 'comment_count',\n",
        "       'categroyID', 'description', 'duration', 'plist_num', \n",
        "       'publish_time', 'tag_num']\n"
      ],
      "metadata": {
        "id": "qN6jd4CEN0-A"
      },
      "execution_count": 169,
      "outputs": []
    },
    {
      "cell_type": "code",
      "source": [
        "#Statistical Numerical Data\n",
        "df_pre.describe()"
      ],
      "metadata": {
        "colab": {
          "base_uri": "https://localhost:8080/",
          "height": 300
        },
        "id": "bSDFxNJcIXT_",
        "outputId": "e952ed14-42ad-4344-b3bc-4de31235bc16"
      },
      "execution_count": 170,
      "outputs": [
        {
          "output_type": "execute_result",
          "data": {
            "text/plain": [
              "       viewer_count    like_count  comment_count  categroyID  description  \\\n",
              "count  2.210000e+02    221.000000     221.000000  221.000000   221.000000   \n",
              "mean   1.850818e+05   4171.674208     317.561086   23.162896  1462.719457   \n",
              "std    2.781622e+05   6098.413587     427.587612    9.123929   480.650282   \n",
              "min    3.550000e+02      6.000000       1.000000    1.000000   234.000000   \n",
              "25%    1.231200e+04    452.000000      60.000000   27.000000  1109.000000   \n",
              "50%    7.959400e+04   1944.000000     177.000000   27.000000  1362.000000   \n",
              "75%    2.271070e+05   4775.000000     409.000000   27.000000  1735.000000   \n",
              "max    1.966663e+06  41774.000000    3773.000000   27.000000  4163.000000   \n",
              "\n",
              "         duration   plist_num  publish_time     tag_num  \n",
              "count  221.000000  188.000000    221.000000  221.000000  \n",
              "mean    12.090498    2.521277   1395.506787    6.638009  \n",
              "std     11.026041    1.096701    667.968873    2.399849  \n",
              "min      1.000000    1.000000      6.000000    1.000000  \n",
              "25%      4.000000    2.000000    875.000000    5.000000  \n",
              "50%      9.000000    3.000000   1484.000000    6.000000  \n",
              "75%     16.000000    3.000000   1883.000000    8.000000  \n",
              "max     73.000000    5.000000   2955.000000   13.000000  "
            ],
            "text/html": [
              "\n",
              "  <div id=\"df-0fed3c94-0f80-464c-a7be-fda5b92a8526\">\n",
              "    <div class=\"colab-df-container\">\n",
              "      <div>\n",
              "<style scoped>\n",
              "    .dataframe tbody tr th:only-of-type {\n",
              "        vertical-align: middle;\n",
              "    }\n",
              "\n",
              "    .dataframe tbody tr th {\n",
              "        vertical-align: top;\n",
              "    }\n",
              "\n",
              "    .dataframe thead th {\n",
              "        text-align: right;\n",
              "    }\n",
              "</style>\n",
              "<table border=\"1\" class=\"dataframe\">\n",
              "  <thead>\n",
              "    <tr style=\"text-align: right;\">\n",
              "      <th></th>\n",
              "      <th>viewer_count</th>\n",
              "      <th>like_count</th>\n",
              "      <th>comment_count</th>\n",
              "      <th>categroyID</th>\n",
              "      <th>description</th>\n",
              "      <th>duration</th>\n",
              "      <th>plist_num</th>\n",
              "      <th>publish_time</th>\n",
              "      <th>tag_num</th>\n",
              "    </tr>\n",
              "  </thead>\n",
              "  <tbody>\n",
              "    <tr>\n",
              "      <th>count</th>\n",
              "      <td>2.210000e+02</td>\n",
              "      <td>221.000000</td>\n",
              "      <td>221.000000</td>\n",
              "      <td>221.000000</td>\n",
              "      <td>221.000000</td>\n",
              "      <td>221.000000</td>\n",
              "      <td>188.000000</td>\n",
              "      <td>221.000000</td>\n",
              "      <td>221.000000</td>\n",
              "    </tr>\n",
              "    <tr>\n",
              "      <th>mean</th>\n",
              "      <td>1.850818e+05</td>\n",
              "      <td>4171.674208</td>\n",
              "      <td>317.561086</td>\n",
              "      <td>23.162896</td>\n",
              "      <td>1462.719457</td>\n",
              "      <td>12.090498</td>\n",
              "      <td>2.521277</td>\n",
              "      <td>1395.506787</td>\n",
              "      <td>6.638009</td>\n",
              "    </tr>\n",
              "    <tr>\n",
              "      <th>std</th>\n",
              "      <td>2.781622e+05</td>\n",
              "      <td>6098.413587</td>\n",
              "      <td>427.587612</td>\n",
              "      <td>9.123929</td>\n",
              "      <td>480.650282</td>\n",
              "      <td>11.026041</td>\n",
              "      <td>1.096701</td>\n",
              "      <td>667.968873</td>\n",
              "      <td>2.399849</td>\n",
              "    </tr>\n",
              "    <tr>\n",
              "      <th>min</th>\n",
              "      <td>3.550000e+02</td>\n",
              "      <td>6.000000</td>\n",
              "      <td>1.000000</td>\n",
              "      <td>1.000000</td>\n",
              "      <td>234.000000</td>\n",
              "      <td>1.000000</td>\n",
              "      <td>1.000000</td>\n",
              "      <td>6.000000</td>\n",
              "      <td>1.000000</td>\n",
              "    </tr>\n",
              "    <tr>\n",
              "      <th>25%</th>\n",
              "      <td>1.231200e+04</td>\n",
              "      <td>452.000000</td>\n",
              "      <td>60.000000</td>\n",
              "      <td>27.000000</td>\n",
              "      <td>1109.000000</td>\n",
              "      <td>4.000000</td>\n",
              "      <td>2.000000</td>\n",
              "      <td>875.000000</td>\n",
              "      <td>5.000000</td>\n",
              "    </tr>\n",
              "    <tr>\n",
              "      <th>50%</th>\n",
              "      <td>7.959400e+04</td>\n",
              "      <td>1944.000000</td>\n",
              "      <td>177.000000</td>\n",
              "      <td>27.000000</td>\n",
              "      <td>1362.000000</td>\n",
              "      <td>9.000000</td>\n",
              "      <td>3.000000</td>\n",
              "      <td>1484.000000</td>\n",
              "      <td>6.000000</td>\n",
              "    </tr>\n",
              "    <tr>\n",
              "      <th>75%</th>\n",
              "      <td>2.271070e+05</td>\n",
              "      <td>4775.000000</td>\n",
              "      <td>409.000000</td>\n",
              "      <td>27.000000</td>\n",
              "      <td>1735.000000</td>\n",
              "      <td>16.000000</td>\n",
              "      <td>3.000000</td>\n",
              "      <td>1883.000000</td>\n",
              "      <td>8.000000</td>\n",
              "    </tr>\n",
              "    <tr>\n",
              "      <th>max</th>\n",
              "      <td>1.966663e+06</td>\n",
              "      <td>41774.000000</td>\n",
              "      <td>3773.000000</td>\n",
              "      <td>27.000000</td>\n",
              "      <td>4163.000000</td>\n",
              "      <td>73.000000</td>\n",
              "      <td>5.000000</td>\n",
              "      <td>2955.000000</td>\n",
              "      <td>13.000000</td>\n",
              "    </tr>\n",
              "  </tbody>\n",
              "</table>\n",
              "</div>\n",
              "      <button class=\"colab-df-convert\" onclick=\"convertToInteractive('df-0fed3c94-0f80-464c-a7be-fda5b92a8526')\"\n",
              "              title=\"Convert this dataframe to an interactive table.\"\n",
              "              style=\"display:none;\">\n",
              "        \n",
              "  <svg xmlns=\"http://www.w3.org/2000/svg\" height=\"24px\"viewBox=\"0 0 24 24\"\n",
              "       width=\"24px\">\n",
              "    <path d=\"M0 0h24v24H0V0z\" fill=\"none\"/>\n",
              "    <path d=\"M18.56 5.44l.94 2.06.94-2.06 2.06-.94-2.06-.94-.94-2.06-.94 2.06-2.06.94zm-11 1L8.5 8.5l.94-2.06 2.06-.94-2.06-.94L8.5 2.5l-.94 2.06-2.06.94zm10 10l.94 2.06.94-2.06 2.06-.94-2.06-.94-.94-2.06-.94 2.06-2.06.94z\"/><path d=\"M17.41 7.96l-1.37-1.37c-.4-.4-.92-.59-1.43-.59-.52 0-1.04.2-1.43.59L10.3 9.45l-7.72 7.72c-.78.78-.78 2.05 0 2.83L4 21.41c.39.39.9.59 1.41.59.51 0 1.02-.2 1.41-.59l7.78-7.78 2.81-2.81c.8-.78.8-2.07 0-2.86zM5.41 20L4 18.59l7.72-7.72 1.47 1.35L5.41 20z\"/>\n",
              "  </svg>\n",
              "      </button>\n",
              "      \n",
              "  <style>\n",
              "    .colab-df-container {\n",
              "      display:flex;\n",
              "      flex-wrap:wrap;\n",
              "      gap: 12px;\n",
              "    }\n",
              "\n",
              "    .colab-df-convert {\n",
              "      background-color: #E8F0FE;\n",
              "      border: none;\n",
              "      border-radius: 50%;\n",
              "      cursor: pointer;\n",
              "      display: none;\n",
              "      fill: #1967D2;\n",
              "      height: 32px;\n",
              "      padding: 0 0 0 0;\n",
              "      width: 32px;\n",
              "    }\n",
              "\n",
              "    .colab-df-convert:hover {\n",
              "      background-color: #E2EBFA;\n",
              "      box-shadow: 0px 1px 2px rgba(60, 64, 67, 0.3), 0px 1px 3px 1px rgba(60, 64, 67, 0.15);\n",
              "      fill: #174EA6;\n",
              "    }\n",
              "\n",
              "    [theme=dark] .colab-df-convert {\n",
              "      background-color: #3B4455;\n",
              "      fill: #D2E3FC;\n",
              "    }\n",
              "\n",
              "    [theme=dark] .colab-df-convert:hover {\n",
              "      background-color: #434B5C;\n",
              "      box-shadow: 0px 1px 3px 1px rgba(0, 0, 0, 0.15);\n",
              "      filter: drop-shadow(0px 1px 2px rgba(0, 0, 0, 0.3));\n",
              "      fill: #FFFFFF;\n",
              "    }\n",
              "  </style>\n",
              "\n",
              "      <script>\n",
              "        const buttonEl =\n",
              "          document.querySelector('#df-0fed3c94-0f80-464c-a7be-fda5b92a8526 button.colab-df-convert');\n",
              "        buttonEl.style.display =\n",
              "          google.colab.kernel.accessAllowed ? 'block' : 'none';\n",
              "\n",
              "        async function convertToInteractive(key) {\n",
              "          const element = document.querySelector('#df-0fed3c94-0f80-464c-a7be-fda5b92a8526');\n",
              "          const dataTable =\n",
              "            await google.colab.kernel.invokeFunction('convertToInteractive',\n",
              "                                                     [key], {});\n",
              "          if (!dataTable) return;\n",
              "\n",
              "          const docLinkHtml = 'Like what you see? Visit the ' +\n",
              "            '<a target=\"_blank\" href=https://colab.research.google.com/notebooks/data_table.ipynb>data table notebook</a>'\n",
              "            + ' to learn more about interactive tables.';\n",
              "          element.innerHTML = '';\n",
              "          dataTable['output_type'] = 'display_data';\n",
              "          await google.colab.output.renderOutput(dataTable, element);\n",
              "          const docLink = document.createElement('div');\n",
              "          docLink.innerHTML = docLinkHtml;\n",
              "          element.appendChild(docLink);\n",
              "        }\n",
              "      </script>\n",
              "    </div>\n",
              "  </div>\n",
              "  "
            ]
          },
          "metadata": {},
          "execution_count": 170
        }
      ]
    },
    {
      "cell_type": "markdown",
      "source": [
        "###Conclusion from Statistical Numerical Data\n",
        "\n",
        "The distribution of data for feature viewer_count,\tlike_count,\tcomment_count looks skewed (mean & median are not close enough)\n",
        "categroyID is more like categorical feature instead of numerical data.\n"
      ],
      "metadata": {
        "id": "UNdvQ7txLQ6c"
      }
    },
    {
      "cell_type": "code",
      "source": [
        "# change categroyID to catagorical data\n",
        "df_pre['categroyID']=df_pre['categroyID'].astype('str')"
      ],
      "metadata": {
        "id": "Z2lpYG5ko33Z"
      },
      "execution_count": 171,
      "outputs": []
    },
    {
      "cell_type": "code",
      "source": [
        "#Statistical Categorical Data\n",
        "cats=['categroyID','plist1','plist2','plist3','plist4','plist5']\n",
        "\n",
        "df_pre[cats].describe()"
      ],
      "metadata": {
        "colab": {
          "base_uri": "https://localhost:8080/",
          "height": 175
        },
        "id": "ySQFPbI6Lu3f",
        "outputId": "ead336b6-e47e-4764-a73f-57a076d6d97e"
      },
      "execution_count": 172,
      "outputs": [
        {
          "output_type": "execute_result",
          "data": {
            "text/plain": [
              "       categroyID         plist1            plist2     plist3     plist4  \\\n",
              "count         221            188               144         99         41   \n",
              "unique          5             15                13          4          2   \n",
              "top            27  #66DaysOfData  Machine Learning  StatQuest  StatQuest   \n",
              "freq          186             73                44         57         39   \n",
              "\n",
              "           plist5  \n",
              "count           2  \n",
              "unique          1  \n",
              "top     StatQuest  \n",
              "freq            2  "
            ],
            "text/html": [
              "\n",
              "  <div id=\"df-4db66267-3fee-49e7-b41f-867261985038\">\n",
              "    <div class=\"colab-df-container\">\n",
              "      <div>\n",
              "<style scoped>\n",
              "    .dataframe tbody tr th:only-of-type {\n",
              "        vertical-align: middle;\n",
              "    }\n",
              "\n",
              "    .dataframe tbody tr th {\n",
              "        vertical-align: top;\n",
              "    }\n",
              "\n",
              "    .dataframe thead th {\n",
              "        text-align: right;\n",
              "    }\n",
              "</style>\n",
              "<table border=\"1\" class=\"dataframe\">\n",
              "  <thead>\n",
              "    <tr style=\"text-align: right;\">\n",
              "      <th></th>\n",
              "      <th>categroyID</th>\n",
              "      <th>plist1</th>\n",
              "      <th>plist2</th>\n",
              "      <th>plist3</th>\n",
              "      <th>plist4</th>\n",
              "      <th>plist5</th>\n",
              "    </tr>\n",
              "  </thead>\n",
              "  <tbody>\n",
              "    <tr>\n",
              "      <th>count</th>\n",
              "      <td>221</td>\n",
              "      <td>188</td>\n",
              "      <td>144</td>\n",
              "      <td>99</td>\n",
              "      <td>41</td>\n",
              "      <td>2</td>\n",
              "    </tr>\n",
              "    <tr>\n",
              "      <th>unique</th>\n",
              "      <td>5</td>\n",
              "      <td>15</td>\n",
              "      <td>13</td>\n",
              "      <td>4</td>\n",
              "      <td>2</td>\n",
              "      <td>1</td>\n",
              "    </tr>\n",
              "    <tr>\n",
              "      <th>top</th>\n",
              "      <td>27</td>\n",
              "      <td>#66DaysOfData</td>\n",
              "      <td>Machine Learning</td>\n",
              "      <td>StatQuest</td>\n",
              "      <td>StatQuest</td>\n",
              "      <td>StatQuest</td>\n",
              "    </tr>\n",
              "    <tr>\n",
              "      <th>freq</th>\n",
              "      <td>186</td>\n",
              "      <td>73</td>\n",
              "      <td>44</td>\n",
              "      <td>57</td>\n",
              "      <td>39</td>\n",
              "      <td>2</td>\n",
              "    </tr>\n",
              "  </tbody>\n",
              "</table>\n",
              "</div>\n",
              "      <button class=\"colab-df-convert\" onclick=\"convertToInteractive('df-4db66267-3fee-49e7-b41f-867261985038')\"\n",
              "              title=\"Convert this dataframe to an interactive table.\"\n",
              "              style=\"display:none;\">\n",
              "        \n",
              "  <svg xmlns=\"http://www.w3.org/2000/svg\" height=\"24px\"viewBox=\"0 0 24 24\"\n",
              "       width=\"24px\">\n",
              "    <path d=\"M0 0h24v24H0V0z\" fill=\"none\"/>\n",
              "    <path d=\"M18.56 5.44l.94 2.06.94-2.06 2.06-.94-2.06-.94-.94-2.06-.94 2.06-2.06.94zm-11 1L8.5 8.5l.94-2.06 2.06-.94-2.06-.94L8.5 2.5l-.94 2.06-2.06.94zm10 10l.94 2.06.94-2.06 2.06-.94-2.06-.94-.94-2.06-.94 2.06-2.06.94z\"/><path d=\"M17.41 7.96l-1.37-1.37c-.4-.4-.92-.59-1.43-.59-.52 0-1.04.2-1.43.59L10.3 9.45l-7.72 7.72c-.78.78-.78 2.05 0 2.83L4 21.41c.39.39.9.59 1.41.59.51 0 1.02-.2 1.41-.59l7.78-7.78 2.81-2.81c.8-.78.8-2.07 0-2.86zM5.41 20L4 18.59l7.72-7.72 1.47 1.35L5.41 20z\"/>\n",
              "  </svg>\n",
              "      </button>\n",
              "      \n",
              "  <style>\n",
              "    .colab-df-container {\n",
              "      display:flex;\n",
              "      flex-wrap:wrap;\n",
              "      gap: 12px;\n",
              "    }\n",
              "\n",
              "    .colab-df-convert {\n",
              "      background-color: #E8F0FE;\n",
              "      border: none;\n",
              "      border-radius: 50%;\n",
              "      cursor: pointer;\n",
              "      display: none;\n",
              "      fill: #1967D2;\n",
              "      height: 32px;\n",
              "      padding: 0 0 0 0;\n",
              "      width: 32px;\n",
              "    }\n",
              "\n",
              "    .colab-df-convert:hover {\n",
              "      background-color: #E2EBFA;\n",
              "      box-shadow: 0px 1px 2px rgba(60, 64, 67, 0.3), 0px 1px 3px 1px rgba(60, 64, 67, 0.15);\n",
              "      fill: #174EA6;\n",
              "    }\n",
              "\n",
              "    [theme=dark] .colab-df-convert {\n",
              "      background-color: #3B4455;\n",
              "      fill: #D2E3FC;\n",
              "    }\n",
              "\n",
              "    [theme=dark] .colab-df-convert:hover {\n",
              "      background-color: #434B5C;\n",
              "      box-shadow: 0px 1px 3px 1px rgba(0, 0, 0, 0.15);\n",
              "      filter: drop-shadow(0px 1px 2px rgba(0, 0, 0, 0.3));\n",
              "      fill: #FFFFFF;\n",
              "    }\n",
              "  </style>\n",
              "\n",
              "      <script>\n",
              "        const buttonEl =\n",
              "          document.querySelector('#df-4db66267-3fee-49e7-b41f-867261985038 button.colab-df-convert');\n",
              "        buttonEl.style.display =\n",
              "          google.colab.kernel.accessAllowed ? 'block' : 'none';\n",
              "\n",
              "        async function convertToInteractive(key) {\n",
              "          const element = document.querySelector('#df-4db66267-3fee-49e7-b41f-867261985038');\n",
              "          const dataTable =\n",
              "            await google.colab.kernel.invokeFunction('convertToInteractive',\n",
              "                                                     [key], {});\n",
              "          if (!dataTable) return;\n",
              "\n",
              "          const docLinkHtml = 'Like what you see? Visit the ' +\n",
              "            '<a target=\"_blank\" href=https://colab.research.google.com/notebooks/data_table.ipynb>data table notebook</a>'\n",
              "            + ' to learn more about interactive tables.';\n",
              "          element.innerHTML = '';\n",
              "          dataTable['output_type'] = 'display_data';\n",
              "          await google.colab.output.renderOutput(dataTable, element);\n",
              "          const docLink = document.createElement('div');\n",
              "          docLink.innerHTML = docLinkHtml;\n",
              "          element.appendChild(docLink);\n",
              "        }\n",
              "      </script>\n",
              "    </div>\n",
              "  </div>\n",
              "  "
            ]
          },
          "metadata": {},
          "execution_count": 172
        }
      ]
    },
    {
      "cell_type": "markdown",
      "source": [
        "###Categorical Data Conclusion\n",
        "Data in plist1 has 188 unique value, top is #66DaysOfData.\n",
        "Data in plist2 has 144 unique value, top is Machine Learning.\n",
        "Data in plist3 has 99 unique value, top is StarQuest.\n",
        "Data in plist4 has 41 unique value, top is StarQuest.\n",
        "Data in plist5 has 2 unique value, top is StarQuest.\n",
        "Plist1 has the highest playlist number, together with playlist number, should be enough features. So we can drop other plist.\n"
      ],
      "metadata": {
        "id": "X01QVUoBNQTE"
      }
    },
    {
      "cell_type": "code",
      "source": [
        "data=df_pre.drop(['plist2','plist3','plist4','plist5'],axis=1)"
      ],
      "metadata": {
        "id": "_xcDlSyLOGiI"
      },
      "execution_count": 173,
      "outputs": []
    },
    {
      "cell_type": "markdown",
      "source": [
        "###Graphical Approaching"
      ],
      "metadata": {
        "id": "KbFzVX2fOjmH"
      }
    },
    {
      "cell_type": "code",
      "source": [
        "# look at the distribution of data with boxplot\n",
        "nums=['viewer_count', 'like_count', 'comment_count','description', 'duration', 'plist_num', 'publish_time', 'tag_num']\n",
        "plt.figure(figsize=(15, 7))\n",
        "for i,feature in enumerate(nums):\n",
        "    plt.subplot(1, 8, i+1)\n",
        "    sns.boxplot(y=data[feature],color='blue',orient='v')\n",
        "    plt.tight_layout();\n"
      ],
      "metadata": {
        "colab": {
          "base_uri": "https://localhost:8080/",
          "height": 513
        },
        "id": "FII2_NrAOW5F",
        "outputId": "992baf19-a53a-4061-b41e-f9ab2d55dd15"
      },
      "execution_count": 174,
      "outputs": [
        {
          "output_type": "display_data",
          "data": {
            "text/plain": [
              "<Figure size 1080x504 with 8 Axes>"
            ],
            "image/png": "[encoded data removed]"
          },
          "metadata": {
            "needs_background": "light"
          }
        }
      ]
    },
    {
      "cell_type": "markdown",
      "source": [
        "It can be seen in the boxplot graph above that the viewer_count, like_count,comment_count, description, duration features have many outliers so that logarithmic transformations are needed for these features."
      ],
      "metadata": {
        "id": "a5lYCbxbRSWr"
      }
    },
    {
      "cell_type": "code",
      "source": [
        "#View data distribution\n",
        "\n",
        "plt.figure(figsize=(20, 7))\n",
        "for i,feature in enumerate(nums):\n",
        "    plt.subplot(1, 8, i+1)\n",
        "    sns.histplot(y=data[feature],color='blue').set(title=feature)\n",
        "    "
      ],
      "metadata": {
        "colab": {
          "base_uri": "https://localhost:8080/",
          "height": 458
        },
        "id": "fDYwEWBDUSm7",
        "outputId": "48682de6-fc62-444e-f35a-89e98e37cfec"
      },
      "execution_count": 175,
      "outputs": [
        {
          "output_type": "display_data",
          "data": {
            "text/plain": [
              "<Figure size 1440x504 with 8 Axes>"
            ],
            "image/png": "[encoded data removed]"
          },
          "metadata": {
            "needs_background": "light"
          }
        }
      ]
    },
    {
      "cell_type": "code",
      "source": [
        "#create a correlation matrix from each numeric data\n",
        "corr_= data[nums].corr()\n",
        "plt.figure(figsize=(16,10))\n",
        "sns.heatmap(corr_, annot=True, fmt = \".2f\", cmap = \"BuPu\");"
      ],
      "metadata": {
        "colab": {
          "base_uri": "https://localhost:8080/",
          "height": 596
        },
        "id": "PskAcGU1WHkR",
        "outputId": "49e3849e-6829-42f6-e701-c97969dd42d3"
      },
      "execution_count": 176,
      "outputs": [
        {
          "output_type": "display_data",
          "data": {
            "text/plain": [
              "<Figure size 1152x720 with 2 Axes>"
            ],
            "image/png": "[encoded data removed]"
          },
          "metadata": {
            "needs_background": "light"
          }
        }
      ]
    },
    {
      "cell_type": "markdown",
      "source": [
        "There are 3 features that have a strong positive correlation to views, namely the likes_count, comment_count,plist_num features."
      ],
      "metadata": {
        "id": "D6yup3PyZb83"
      }
    },
    {
      "cell_type": "code",
      "source": [
        "#create a pairplot graph from each numeric data\n",
        "plt.figure(figsize=(10,8))\n",
        "sns.pairplot(data=data, x_vars=nums, y_vars=['viewer_count'], height=5, aspect=0.75);\n",
        "plt.tight_layout()"
      ],
      "metadata": {
        "colab": {
          "base_uri": "https://localhost:8080/",
          "height": 248
        },
        "id": "IKeE3snkZmwW",
        "outputId": "868e361d-8624-4b24-d0d5-6831f3352a6e"
      },
      "execution_count": 177,
      "outputs": [
        {
          "output_type": "display_data",
          "data": {
            "text/plain": [
              "<Figure size 720x576 with 0 Axes>"
            ]
          },
          "metadata": {}
        },
        {
          "output_type": "display_data",
          "data": {
            "text/plain": [
              "<Figure size 2160x360 with 9 Axes>"
            ],
            "image/png": "[encoded data removed]"
          },
          "metadata": {
            "needs_background": "light"
          }
        }
      ]
    },
    {
      "cell_type": "markdown",
      "source": [
        "Simple EDA\n",
        "\n",
        "In boxplot charts of viewer_count, like_count,comment_count, description, duration features have many outliers, it can be seen that the data distribution is uneven and has lots of outliers.\n",
        "Then when we look at the heatmap, we can see that almost all the features that are positively correlated with the views of a video, so maybe these features are of feature importance for doing machine learning modeling"
      ],
      "metadata": {
        "id": "jZalIn3Uaczb"
      }
    },
    {
      "cell_type": "markdown",
      "source": [
        "##Data Preparation"
      ],
      "metadata": {
        "id": "4edEE4rTbGQc"
      }
    },
    {
      "cell_type": "code",
      "source": [
        "#see the number of missing values from the data frame\n",
        "data_missing_value = data.isnull().sum().reset_index()\n",
        "data_missing_value.columns = ['feature','missing_value']\n",
        "data_missing_value"
      ],
      "metadata": {
        "colab": {
          "base_uri": "https://localhost:8080/",
          "height": 394
        },
        "id": "QL-vbi3kbMzX",
        "outputId": "f93a6cbf-f6b5-4ee8-a1dc-8704f76131a2"
      },
      "execution_count": 178,
      "outputs": [
        {
          "output_type": "execute_result",
          "data": {
            "text/plain": [
              "          feature  missing_value\n",
              "0    Publish_date              0\n",
              "1    viewer_count              0\n",
              "2      like_count              0\n",
              "3   comment_count              0\n",
              "4      categroyID              0\n",
              "5     description              0\n",
              "6        duration              0\n",
              "7       plist_num             33\n",
              "8          plist1             33\n",
              "9    publish_time              0\n",
              "10        tag_num              0"
            ],
            "text/html": [
              "\n",
              "  <div id=\"df-9debd022-cb53-4a32-bb13-33c2b7229bce\">\n",
              "    <div class=\"colab-df-container\">\n",
              "      <div>\n",
              "<style scoped>\n",
              "    .dataframe tbody tr th:only-of-type {\n",
              "        vertical-align: middle;\n",
              "    }\n",
              "\n",
              "    .dataframe tbody tr th {\n",
              "        vertical-align: top;\n",
              "    }\n",
              "\n",
              "    .dataframe thead th {\n",
              "        text-align: right;\n",
              "    }\n",
              "</style>\n",
              "<table border=\"1\" class=\"dataframe\">\n",
              "  <thead>\n",
              "    <tr style=\"text-align: right;\">\n",
              "      <th></th>\n",
              "      <th>feature</th>\n",
              "      <th>missing_value</th>\n",
              "    </tr>\n",
              "  </thead>\n",
              "  <tbody>\n",
              "    <tr>\n",
              "      <th>0</th>\n",
              "      <td>Publish_date</td>\n",
              "      <td>0</td>\n",
              "    </tr>\n",
              "    <tr>\n",
              "      <th>1</th>\n",
              "      <td>viewer_count</td>\n",
              "      <td>0</td>\n",
              "    </tr>\n",
              "    <tr>\n",
              "      <th>2</th>\n",
              "      <td>like_count</td>\n",
              "      <td>0</td>\n",
              "    </tr>\n",
              "    <tr>\n",
              "      <th>3</th>\n",
              "      <td>comment_count</td>\n",
              "      <td>0</td>\n",
              "    </tr>\n",
              "    <tr>\n",
              "      <th>4</th>\n",
              "      <td>categroyID</td>\n",
              "      <td>0</td>\n",
              "    </tr>\n",
              "    <tr>\n",
              "      <th>5</th>\n",
              "      <td>description</td>\n",
              "      <td>0</td>\n",
              "    </tr>\n",
              "    <tr>\n",
              "      <th>6</th>\n",
              "      <td>duration</td>\n",
              "      <td>0</td>\n",
              "    </tr>\n",
              "    <tr>\n",
              "      <th>7</th>\n",
              "      <td>plist_num</td>\n",
              "      <td>33</td>\n",
              "    </tr>\n",
              "    <tr>\n",
              "      <th>8</th>\n",
              "      <td>plist1</td>\n",
              "      <td>33</td>\n",
              "    </tr>\n",
              "    <tr>\n",
              "      <th>9</th>\n",
              "      <td>publish_time</td>\n",
              "      <td>0</td>\n",
              "    </tr>\n",
              "    <tr>\n",
              "      <th>10</th>\n",
              "      <td>tag_num</td>\n",
              "      <td>0</td>\n",
              "    </tr>\n",
              "  </tbody>\n",
              "</table>\n",
              "</div>\n",
              "      <button class=\"colab-df-convert\" onclick=\"convertToInteractive('df-9debd022-cb53-4a32-bb13-33c2b7229bce')\"\n",
              "              title=\"Convert this dataframe to an interactive table.\"\n",
              "              style=\"display:none;\">\n",
              "        \n",
              "  <svg xmlns=\"http://www.w3.org/2000/svg\" height=\"24px\"viewBox=\"0 0 24 24\"\n",
              "       width=\"24px\">\n",
              "    <path d=\"M0 0h24v24H0V0z\" fill=\"none\"/>\n",
              "    <path d=\"M18.56 5.44l.94 2.06.94-2.06 2.06-.94-2.06-.94-.94-2.06-.94 2.06-2.06.94zm-11 1L8.5 8.5l.94-2.06 2.06-.94-2.06-.94L8.5 2.5l-.94 2.06-2.06.94zm10 10l.94 2.06.94-2.06 2.06-.94-2.06-.94-.94-2.06-.94 2.06-2.06.94z\"/><path d=\"M17.41 7.96l-1.37-1.37c-.4-.4-.92-.59-1.43-.59-.52 0-1.04.2-1.43.59L10.3 9.45l-7.72 7.72c-.78.78-.78 2.05 0 2.83L4 21.41c.39.39.9.59 1.41.59.51 0 1.02-.2 1.41-.59l7.78-7.78 2.81-2.81c.8-.78.8-2.07 0-2.86zM5.41 20L4 18.59l7.72-7.72 1.47 1.35L5.41 20z\"/>\n",
              "  </svg>\n",
              "      </button>\n",
              "      \n",
              "  <style>\n",
              "    .colab-df-container {\n",
              "      display:flex;\n",
              "      flex-wrap:wrap;\n",
              "      gap: 12px;\n",
              "    }\n",
              "\n",
              "    .colab-df-convert {\n",
              "      background-color: #E8F0FE;\n",
              "      border: none;\n",
              "      border-radius: 50%;\n",
              "      cursor: pointer;\n",
              "      display: none;\n",
              "      fill: #1967D2;\n",
              "      height: 32px;\n",
              "      padding: 0 0 0 0;\n",
              "      width: 32px;\n",
              "    }\n",
              "\n",
              "    .colab-df-convert:hover {\n",
              "      background-color: #E2EBFA;\n",
              "      box-shadow: 0px 1px 2px rgba(60, 64, 67, 0.3), 0px 1px 3px 1px rgba(60, 64, 67, 0.15);\n",
              "      fill: #174EA6;\n",
              "    }\n",
              "\n",
              "    [theme=dark] .colab-df-convert {\n",
              "      background-color: #3B4455;\n",
              "      fill: #D2E3FC;\n",
              "    }\n",
              "\n",
              "    [theme=dark] .colab-df-convert:hover {\n",
              "      background-color: #434B5C;\n",
              "      box-shadow: 0px 1px 3px 1px rgba(0, 0, 0, 0.15);\n",
              "      filter: drop-shadow(0px 1px 2px rgba(0, 0, 0, 0.3));\n",
              "      fill: #FFFFFF;\n",
              "    }\n",
              "  </style>\n",
              "\n",
              "      <script>\n",
              "        const buttonEl =\n",
              "          document.querySelector('#df-9debd022-cb53-4a32-bb13-33c2b7229bce button.colab-df-convert');\n",
              "        buttonEl.style.display =\n",
              "          google.colab.kernel.accessAllowed ? 'block' : 'none';\n",
              "\n",
              "        async function convertToInteractive(key) {\n",
              "          const element = document.querySelector('#df-9debd022-cb53-4a32-bb13-33c2b7229bce');\n",
              "          const dataTable =\n",
              "            await google.colab.kernel.invokeFunction('convertToInteractive',\n",
              "                                                     [key], {});\n",
              "          if (!dataTable) return;\n",
              "\n",
              "          const docLinkHtml = 'Like what you see? Visit the ' +\n",
              "            '<a target=\"_blank\" href=https://colab.research.google.com/notebooks/data_table.ipynb>data table notebook</a>'\n",
              "            + ' to learn more about interactive tables.';\n",
              "          element.innerHTML = '';\n",
              "          dataTable['output_type'] = 'display_data';\n",
              "          await google.colab.output.renderOutput(dataTable, element);\n",
              "          const docLink = document.createElement('div');\n",
              "          docLink.innerHTML = docLinkHtml;\n",
              "          element.appendChild(docLink);\n",
              "        }\n",
              "      </script>\n",
              "    </div>\n",
              "  </div>\n",
              "  "
            ]
          },
          "metadata": {},
          "execution_count": 178
        }
      ]
    },
    {
      "cell_type": "code",
      "source": [
        "#see the percentage of missing value for each feature\n",
        "data_missing_value['percentage'] = round((data_missing_value['missing_value']/len(data))*100,2)\n",
        "data_missing_value = data_missing_value.sort_values('percentage', ascending=False).reset_index(drop=True)\n",
        "data_missing_value"
      ],
      "metadata": {
        "colab": {
          "base_uri": "https://localhost:8080/",
          "height": 394
        },
        "id": "jBe63iSMbbef",
        "outputId": "66c16540-718b-400f-fab0-832cbd285bc7"
      },
      "execution_count": 179,
      "outputs": [
        {
          "output_type": "execute_result",
          "data": {
            "text/plain": [
              "          feature  missing_value  percentage\n",
              "0       plist_num             33       14.93\n",
              "1          plist1             33       14.93\n",
              "2    Publish_date              0        0.00\n",
              "3    viewer_count              0        0.00\n",
              "4      like_count              0        0.00\n",
              "5   comment_count              0        0.00\n",
              "6      categroyID              0        0.00\n",
              "7     description              0        0.00\n",
              "8        duration              0        0.00\n",
              "9    publish_time              0        0.00\n",
              "10        tag_num              0        0.00"
            ],
            "text/html": [
              "\n",
              "  <div id=\"df-15eee37a-9fa5-4f62-8768-7d414272b6e8\">\n",
              "    <div class=\"colab-df-container\">\n",
              "      <div>\n",
              "<style scoped>\n",
              "    .dataframe tbody tr th:only-of-type {\n",
              "        vertical-align: middle;\n",
              "    }\n",
              "\n",
              "    .dataframe tbody tr th {\n",
              "        vertical-align: top;\n",
              "    }\n",
              "\n",
              "    .dataframe thead th {\n",
              "        text-align: right;\n",
              "    }\n",
              "</style>\n",
              "<table border=\"1\" class=\"dataframe\">\n",
              "  <thead>\n",
              "    <tr style=\"text-align: right;\">\n",
              "      <th></th>\n",
              "      <th>feature</th>\n",
              "      <th>missing_value</th>\n",
              "      <th>percentage</th>\n",
              "    </tr>\n",
              "  </thead>\n",
              "  <tbody>\n",
              "    <tr>\n",
              "      <th>0</th>\n",
              "      <td>plist_num</td>\n",
              "      <td>33</td>\n",
              "      <td>14.93</td>\n",
              "    </tr>\n",
              "    <tr>\n",
              "      <th>1</th>\n",
              "      <td>plist1</td>\n",
              "      <td>33</td>\n",
              "      <td>14.93</td>\n",
              "    </tr>\n",
              "    <tr>\n",
              "      <th>2</th>\n",
              "      <td>Publish_date</td>\n",
              "      <td>0</td>\n",
              "      <td>0.00</td>\n",
              "    </tr>\n",
              "    <tr>\n",
              "      <th>3</th>\n",
              "      <td>viewer_count</td>\n",
              "      <td>0</td>\n",
              "      <td>0.00</td>\n",
              "    </tr>\n",
              "    <tr>\n",
              "      <th>4</th>\n",
              "      <td>like_count</td>\n",
              "      <td>0</td>\n",
              "      <td>0.00</td>\n",
              "    </tr>\n",
              "    <tr>\n",
              "      <th>5</th>\n",
              "      <td>comment_count</td>\n",
              "      <td>0</td>\n",
              "      <td>0.00</td>\n",
              "    </tr>\n",
              "    <tr>\n",
              "      <th>6</th>\n",
              "      <td>categroyID</td>\n",
              "      <td>0</td>\n",
              "      <td>0.00</td>\n",
              "    </tr>\n",
              "    <tr>\n",
              "      <th>7</th>\n",
              "      <td>description</td>\n",
              "      <td>0</td>\n",
              "      <td>0.00</td>\n",
              "    </tr>\n",
              "    <tr>\n",
              "      <th>8</th>\n",
              "      <td>duration</td>\n",
              "      <td>0</td>\n",
              "      <td>0.00</td>\n",
              "    </tr>\n",
              "    <tr>\n",
              "      <th>9</th>\n",
              "      <td>publish_time</td>\n",
              "      <td>0</td>\n",
              "      <td>0.00</td>\n",
              "    </tr>\n",
              "    <tr>\n",
              "      <th>10</th>\n",
              "      <td>tag_num</td>\n",
              "      <td>0</td>\n",
              "      <td>0.00</td>\n",
              "    </tr>\n",
              "  </tbody>\n",
              "</table>\n",
              "</div>\n",
              "      <button class=\"colab-df-convert\" onclick=\"convertToInteractive('df-15eee37a-9fa5-4f62-8768-7d414272b6e8')\"\n",
              "              title=\"Convert this dataframe to an interactive table.\"\n",
              "              style=\"display:none;\">\n",
              "        \n",
              "  <svg xmlns=\"http://www.w3.org/2000/svg\" height=\"24px\"viewBox=\"0 0 24 24\"\n",
              "       width=\"24px\">\n",
              "    <path d=\"M0 0h24v24H0V0z\" fill=\"none\"/>\n",
              "    <path d=\"M18.56 5.44l.94 2.06.94-2.06 2.06-.94-2.06-.94-.94-2.06-.94 2.06-2.06.94zm-11 1L8.5 8.5l.94-2.06 2.06-.94-2.06-.94L8.5 2.5l-.94 2.06-2.06.94zm10 10l.94 2.06.94-2.06 2.06-.94-2.06-.94-.94-2.06-.94 2.06-2.06.94z\"/><path d=\"M17.41 7.96l-1.37-1.37c-.4-.4-.92-.59-1.43-.59-.52 0-1.04.2-1.43.59L10.3 9.45l-7.72 7.72c-.78.78-.78 2.05 0 2.83L4 21.41c.39.39.9.59 1.41.59.51 0 1.02-.2 1.41-.59l7.78-7.78 2.81-2.81c.8-.78.8-2.07 0-2.86zM5.41 20L4 18.59l7.72-7.72 1.47 1.35L5.41 20z\"/>\n",
              "  </svg>\n",
              "      </button>\n",
              "      \n",
              "  <style>\n",
              "    .colab-df-container {\n",
              "      display:flex;\n",
              "      flex-wrap:wrap;\n",
              "      gap: 12px;\n",
              "    }\n",
              "\n",
              "    .colab-df-convert {\n",
              "      background-color: #E8F0FE;\n",
              "      border: none;\n",
              "      border-radius: 50%;\n",
              "      cursor: pointer;\n",
              "      display: none;\n",
              "      fill: #1967D2;\n",
              "      height: 32px;\n",
              "      padding: 0 0 0 0;\n",
              "      width: 32px;\n",
              "    }\n",
              "\n",
              "    .colab-df-convert:hover {\n",
              "      background-color: #E2EBFA;\n",
              "      box-shadow: 0px 1px 2px rgba(60, 64, 67, 0.3), 0px 1px 3px 1px rgba(60, 64, 67, 0.15);\n",
              "      fill: #174EA6;\n",
              "    }\n",
              "\n",
              "    [theme=dark] .colab-df-convert {\n",
              "      background-color: #3B4455;\n",
              "      fill: #D2E3FC;\n",
              "    }\n",
              "\n",
              "    [theme=dark] .colab-df-convert:hover {\n",
              "      background-color: #434B5C;\n",
              "      box-shadow: 0px 1px 3px 1px rgba(0, 0, 0, 0.15);\n",
              "      filter: drop-shadow(0px 1px 2px rgba(0, 0, 0, 0.3));\n",
              "      fill: #FFFFFF;\n",
              "    }\n",
              "  </style>\n",
              "\n",
              "      <script>\n",
              "        const buttonEl =\n",
              "          document.querySelector('#df-15eee37a-9fa5-4f62-8768-7d414272b6e8 button.colab-df-convert');\n",
              "        buttonEl.style.display =\n",
              "          google.colab.kernel.accessAllowed ? 'block' : 'none';\n",
              "\n",
              "        async function convertToInteractive(key) {\n",
              "          const element = document.querySelector('#df-15eee37a-9fa5-4f62-8768-7d414272b6e8');\n",
              "          const dataTable =\n",
              "            await google.colab.kernel.invokeFunction('convertToInteractive',\n",
              "                                                     [key], {});\n",
              "          if (!dataTable) return;\n",
              "\n",
              "          const docLinkHtml = 'Like what you see? Visit the ' +\n",
              "            '<a target=\"_blank\" href=https://colab.research.google.com/notebooks/data_table.ipynb>data table notebook</a>'\n",
              "            + ' to learn more about interactive tables.';\n",
              "          element.innerHTML = '';\n",
              "          dataTable['output_type'] = 'display_data';\n",
              "          await google.colab.output.renderOutput(dataTable, element);\n",
              "          const docLink = document.createElement('div');\n",
              "          docLink.innerHTML = docLinkHtml;\n",
              "          element.appendChild(docLink);\n",
              "        }\n",
              "      </script>\n",
              "    </div>\n",
              "  </div>\n",
              "  "
            ]
          },
          "metadata": {},
          "execution_count": 179
        }
      ]
    },
    {
      "cell_type": "code",
      "source": [
        "#View the distribution of missing values using the barplot\n",
        "fig, ax = plt.subplots(figsize=(15,7))\n",
        "\n",
        "g = sns.barplot(x = 'feature',y='percentage',data=data_missing_value,ax=ax, \n",
        "               palette=sns.color_palette(\"Blues_d\", n_colors=13, desat=1))\n",
        "\n",
        "x = np.arange(len(data_missing_value['feature']))\n",
        "y = data_missing_value['percentage']\n",
        "\n",
        "for i, v in enumerate(y):\n",
        "    ax.text(x[i]- 0.1, v+0.5, str(v)+'%', fontsize = 15, color='gray', fontweight='bold')\n",
        "    \n",
        "title = '''\n",
        "The distribution of missing values\n",
        "'''\n",
        "ax.text(0.05,20,title,horizontalalignment='left',color='black',fontsize=22,fontweight='bold')    \n",
        "\n",
        "text = '''\n",
        "There are 2 features that have missing value\n",
        "1 numeric and 1 non-numeric\n",
        "\n",
        "plist_num with numeric data types have a 14.93% missing value\n",
        "plist1 with categorical non-numeric data type has a 14.93% missing value\n",
        "\n",
        "'''\n",
        "ax.text(0.05,16,text,horizontalalignment='left',color='black',fontsize=16,fontweight='normal')\n",
        "\n",
        "ax.set_ylim(0,15)\n",
        "\n",
        "ax.set_xticklabels(ax.get_xticklabels(),rotation=90)\n",
        "plt.tight_layout;\n",
        "#plt.savefig('fig/distribusi nilai hilang.png');\n"
      ],
      "metadata": {
        "colab": {
          "base_uri": "https://localhost:8080/",
          "height": 702
        },
        "id": "R4pN_LOtcCnm",
        "outputId": "0f7cc565-aacb-4169-a952-0d3b028e5667"
      },
      "execution_count": 180,
      "outputs": [
        {
          "output_type": "display_data",
          "data": {
            "text/plain": [
              "<Figure size 1080x504 with 1 Axes>"
            ],
            "image/png": "[encoded data removed]"
          },
          "metadata": {
            "needs_background": "light"
          }
        }
      ]
    },
    {
      "cell_type": "code",
      "source": [
        "# fill the plist_num value wit 0\n",
        "data['plist_num']=data['plist_num'].fillna(0)"
      ],
      "metadata": {
        "id": "hJVOt0IgfUL-"
      },
      "execution_count": 181,
      "outputs": []
    },
    {
      "cell_type": "code",
      "source": [
        "# fill the plist_num value wit na\n",
        "data['plist1']=data['plist1'].fillna('na')"
      ],
      "metadata": {
        "id": "kHFQbW0HfmQn"
      },
      "execution_count": 182,
      "outputs": []
    },
    {
      "cell_type": "code",
      "source": [
        "data.isna().sum()"
      ],
      "metadata": {
        "colab": {
          "base_uri": "https://localhost:8080/"
        },
        "id": "SMrfCUiLfuXO",
        "outputId": "c8517390-02a8-4171-a948-a7826040193e"
      },
      "execution_count": 183,
      "outputs": [
        {
          "output_type": "execute_result",
          "data": {
            "text/plain": [
              "Publish_date     0\n",
              "viewer_count     0\n",
              "like_count       0\n",
              "comment_count    0\n",
              "categroyID       0\n",
              "description      0\n",
              "duration         0\n",
              "plist_num        0\n",
              "plist1           0\n",
              "publish_time     0\n",
              "tag_num          0\n",
              "dtype: int64"
            ]
          },
          "metadata": {},
          "execution_count": 183
        }
      ]
    },
    {
      "cell_type": "code",
      "source": [
        "#see the number of duplicate data\n",
        "data.duplicated().sum()"
      ],
      "metadata": {
        "colab": {
          "base_uri": "https://localhost:8080/"
        },
        "id": "p6z4j7Jqf-D0",
        "outputId": "50c9622e-acdf-48a2-f524-f9771ad24d88"
      },
      "execution_count": 184,
      "outputs": [
        {
          "output_type": "execute_result",
          "data": {
            "text/plain": [
              "0"
            ]
          },
          "metadata": {},
          "execution_count": 184
        }
      ]
    },
    {
      "cell_type": "markdown",
      "source": [
        "Outliers"
      ],
      "metadata": {
        "id": "avSnBYYbiTi1"
      }
    },
    {
      "cell_type": "code",
      "source": [
        "for i in ['like_count', 'comment_count', 'description', 'duration', 'plist_num','publish_time', 'tag_num']:\n",
        "  f,ax = plt.subplots(2,2,figsize=(10,7))\n",
        "\n",
        "  g = sns.distplot(data[i],kde=True, ax=ax[0,0]).set(title=i)\n",
        "  g = sns.boxplot(data[i],color='green',orient='h', ax=ax[0,1])\n",
        "  g = sns.distplot(np.log1p(data[i]+1),kde=True, ax=ax[1,0]) \n",
        "  g = sns.boxplot(np.log1p(data[i]+1),color='green',orient='h', ax=ax[1,1])\n",
        "  "
      ],
      "metadata": {
        "colab": {
          "base_uri": "https://localhost:8080/",
          "height": 1000
        },
        "id": "YyNF2aIriVmj",
        "outputId": "a4f78cb4-0aef-4554-85fe-72988174cf02"
      },
      "execution_count": 185,
      "outputs": [
        {
          "output_type": "stream",
          "name": "stderr",
          "text": [
            "/usr/local/lib/python3.7/dist-packages/seaborn/distributions.py:2619: FutureWarning: `distplot` is a deprecated function and will be removed in a future version. Please adapt your code to use either `displot` (a figure-level function with similar flexibility) or `histplot` (an axes-level function for histograms).\n",
            "  warnings.warn(msg, FutureWarning)\n",
            "/usr/local/lib/python3.7/dist-packages/seaborn/_decorators.py:43: FutureWarning: Pass the following variable as a keyword arg: x. From version 0.12, the only valid positional argument will be `data`, and passing other arguments without an explicit keyword will result in an error or misinterpretation.\n",
            "  FutureWarning\n",
            "/usr/local/lib/python3.7/dist-packages/seaborn/distributions.py:2619: FutureWarning: `distplot` is a deprecated function and will be removed in a future version. Please adapt your code to use either `displot` (a figure-level function with similar flexibility) or `histplot` (an axes-level function for histograms).\n",
            "  warnings.warn(msg, FutureWarning)\n",
            "/usr/local/lib/python3.7/dist-packages/seaborn/_decorators.py:43: FutureWarning: Pass the following variable as a keyword arg: x. From version 0.12, the only valid positional argument will be `data`, and passing other arguments without an explicit keyword will result in an error or misinterpretation.\n",
            "  FutureWarning\n",
            "/usr/local/lib/python3.7/dist-packages/seaborn/distributions.py:2619: FutureWarning: `distplot` is a deprecated function and will be removed in a future version. Please adapt your code to use either `displot` (a figure-level function with similar flexibility) or `histplot` (an axes-level function for histograms).\n",
            "  warnings.warn(msg, FutureWarning)\n",
            "/usr/local/lib/python3.7/dist-packages/seaborn/_decorators.py:43: FutureWarning: Pass the following variable as a keyword arg: x. From version 0.12, the only valid positional argument will be `data`, and passing other arguments without an explicit keyword will result in an error or misinterpretation.\n",
            "  FutureWarning\n",
            "/usr/local/lib/python3.7/dist-packages/seaborn/distributions.py:2619: FutureWarning: `distplot` is a deprecated function and will be removed in a future version. Please adapt your code to use either `displot` (a figure-level function with similar flexibility) or `histplot` (an axes-level function for histograms).\n",
            "  warnings.warn(msg, FutureWarning)\n",
            "/usr/local/lib/python3.7/dist-packages/seaborn/_decorators.py:43: FutureWarning: Pass the following variable as a keyword arg: x. From version 0.12, the only valid positional argument will be `data`, and passing other arguments without an explicit keyword will result in an error or misinterpretation.\n",
            "  FutureWarning\n",
            "/usr/local/lib/python3.7/dist-packages/seaborn/distributions.py:2619: FutureWarning: `distplot` is a deprecated function and will be removed in a future version. Please adapt your code to use either `displot` (a figure-level function with similar flexibility) or `histplot` (an axes-level function for histograms).\n",
            "  warnings.warn(msg, FutureWarning)\n",
            "/usr/local/lib/python3.7/dist-packages/seaborn/_decorators.py:43: FutureWarning: Pass the following variable as a keyword arg: x. From version 0.12, the only valid positional argument will be `data`, and passing other arguments without an explicit keyword will result in an error or misinterpretation.\n",
            "  FutureWarning\n",
            "/usr/local/lib/python3.7/dist-packages/seaborn/distributions.py:2619: FutureWarning: `distplot` is a deprecated function and will be removed in a future version. Please adapt your code to use either `displot` (a figure-level function with similar flexibility) or `histplot` (an axes-level function for histograms).\n",
            "  warnings.warn(msg, FutureWarning)\n",
            "/usr/local/lib/python3.7/dist-packages/seaborn/_decorators.py:43: FutureWarning: Pass the following variable as a keyword arg: x. From version 0.12, the only valid positional argument will be `data`, and passing other arguments without an explicit keyword will result in an error or misinterpretation.\n",
            "  FutureWarning\n",
            "/usr/local/lib/python3.7/dist-packages/seaborn/distributions.py:2619: FutureWarning: `distplot` is a deprecated function and will be removed in a future version. Please adapt your code to use either `displot` (a figure-level function with similar flexibility) or `histplot` (an axes-level function for histograms).\n",
            "  warnings.warn(msg, FutureWarning)\n",
            "/usr/local/lib/python3.7/dist-packages/seaborn/_decorators.py:43: FutureWarning: Pass the following variable as a keyword arg: x. From version 0.12, the only valid positional argument will be `data`, and passing other arguments without an explicit keyword will result in an error or misinterpretation.\n",
            "  FutureWarning\n",
            "/usr/local/lib/python3.7/dist-packages/seaborn/distributions.py:2619: FutureWarning: `distplot` is a deprecated function and will be removed in a future version. Please adapt your code to use either `displot` (a figure-level function with similar flexibility) or `histplot` (an axes-level function for histograms).\n",
            "  warnings.warn(msg, FutureWarning)\n",
            "/usr/local/lib/python3.7/dist-packages/seaborn/_decorators.py:43: FutureWarning: Pass the following variable as a keyword arg: x. From version 0.12, the only valid positional argument will be `data`, and passing other arguments without an explicit keyword will result in an error or misinterpretation.\n",
            "  FutureWarning\n",
            "/usr/local/lib/python3.7/dist-packages/seaborn/distributions.py:2619: FutureWarning: `distplot` is a deprecated function and will be removed in a future version. Please adapt your code to use either `displot` (a figure-level function with similar flexibility) or `histplot` (an axes-level function for histograms).\n",
            "  warnings.warn(msg, FutureWarning)\n",
            "/usr/local/lib/python3.7/dist-packages/seaborn/_decorators.py:43: FutureWarning: Pass the following variable as a keyword arg: x. From version 0.12, the only valid positional argument will be `data`, and passing other arguments without an explicit keyword will result in an error or misinterpretation.\n",
            "  FutureWarning\n",
            "/usr/local/lib/python3.7/dist-packages/seaborn/distributions.py:2619: FutureWarning: `distplot` is a deprecated function and will be removed in a future version. Please adapt your code to use either `displot` (a figure-level function with similar flexibility) or `histplot` (an axes-level function for histograms).\n",
            "  warnings.warn(msg, FutureWarning)\n",
            "/usr/local/lib/python3.7/dist-packages/seaborn/_decorators.py:43: FutureWarning: Pass the following variable as a keyword arg: x. From version 0.12, the only valid positional argument will be `data`, and passing other arguments without an explicit keyword will result in an error or misinterpretation.\n",
            "  FutureWarning\n",
            "/usr/local/lib/python3.7/dist-packages/seaborn/distributions.py:2619: FutureWarning: `distplot` is a deprecated function and will be removed in a future version. Please adapt your code to use either `displot` (a figure-level function with similar flexibility) or `histplot` (an axes-level function for histograms).\n",
            "  warnings.warn(msg, FutureWarning)\n",
            "/usr/local/lib/python3.7/dist-packages/seaborn/_decorators.py:43: FutureWarning: Pass the following variable as a keyword arg: x. From version 0.12, the only valid positional argument will be `data`, and passing other arguments without an explicit keyword will result in an error or misinterpretation.\n",
            "  FutureWarning\n",
            "/usr/local/lib/python3.7/dist-packages/seaborn/distributions.py:2619: FutureWarning: `distplot` is a deprecated function and will be removed in a future version. Please adapt your code to use either `displot` (a figure-level function with similar flexibility) or `histplot` (an axes-level function for histograms).\n",
            "  warnings.warn(msg, FutureWarning)\n",
            "/usr/local/lib/python3.7/dist-packages/seaborn/_decorators.py:43: FutureWarning: Pass the following variable as a keyword arg: x. From version 0.12, the only valid positional argument will be `data`, and passing other arguments without an explicit keyword will result in an error or misinterpretation.\n",
            "  FutureWarning\n",
            "/usr/local/lib/python3.7/dist-packages/seaborn/distributions.py:2619: FutureWarning: `distplot` is a deprecated function and will be removed in a future version. Please adapt your code to use either `displot` (a figure-level function with similar flexibility) or `histplot` (an axes-level function for histograms).\n",
            "  warnings.warn(msg, FutureWarning)\n",
            "/usr/local/lib/python3.7/dist-packages/seaborn/_decorators.py:43: FutureWarning: Pass the following variable as a keyword arg: x. From version 0.12, the only valid positional argument will be `data`, and passing other arguments without an explicit keyword will result in an error or misinterpretation.\n",
            "  FutureWarning\n",
            "/usr/local/lib/python3.7/dist-packages/seaborn/distributions.py:2619: FutureWarning: `distplot` is a deprecated function and will be removed in a future version. Please adapt your code to use either `displot` (a figure-level function with similar flexibility) or `histplot` (an axes-level function for histograms).\n",
            "  warnings.warn(msg, FutureWarning)\n",
            "/usr/local/lib/python3.7/dist-packages/seaborn/_decorators.py:43: FutureWarning: Pass the following variable as a keyword arg: x. From version 0.12, the only valid positional argument will be `data`, and passing other arguments without an explicit keyword will result in an error or misinterpretation.\n",
            "  FutureWarning\n"
          ]
        },
        {
          "output_type": "display_data",
          "data": {
            "text/plain": [
              "<Figure size 720x504 with 4 Axes>"
            ],
            "image/png": "[encoded data removed]"
          },
          "metadata": {
            "needs_background": "light"
          }
        },
        {
          "output_type": "display_data",
          "data": {
            "text/plain": [
              "<Figure size 720x504 with 4 Axes>"
            ],
            "image/png": "[encoded data removed]"
          },
          "metadata": {
            "needs_background": "light"
          }
        },
        {
          "output_type": "display_data",
          "data": {
            "text/plain": [
              "<Figure size 720x504 with 4 Axes>"
            ],
            "image/png": "[encoded data removed]"
          },
          "metadata": {
            "needs_background": "light"
          }
        },
        {
          "output_type": "display_data",
          "data": {
            "text/plain": [
              "<Figure size 720x504 with 4 Axes>"
            ],
            "image/png": "[encoded data removed]"
          },
          "metadata": {
            "needs_background": "light"
          }
        },
        {
          "output_type": "display_data",
          "data": {
            "text/plain": [
              "<Figure size 720x504 with 4 Axes>"
            ],
            "image/png": "[encoded data removed]"
          },
          "metadata": {
            "needs_background": "light"
          }
        },
        {
          "output_type": "display_data",
          "data": {
            "text/plain": [
              "<Figure size 720x504 with 4 Axes>"
            ],
            "image/png": "[encoded data removed]"
          },
          "metadata": {
            "needs_background": "light"
          }
        },
        {
          "output_type": "display_data",
          "data": {
            "text/plain": [
              "<Figure size 720x504 with 4 Axes>"
            ],
            "image/png": "[encoded data removed]"
          },
          "metadata": {
            "needs_background": "light"
          }
        }
      ]
    },
    {
      "cell_type": "markdown",
      "source": [
        "Log transform for 'like_count', 'comment_count', 'description', 'duration' are nessesary."
      ],
      "metadata": {
        "id": "F2grF6BLll2n"
      }
    },
    {
      "cell_type": "code",
      "source": [
        "features = ['like_count', 'comment_count', 'description', 'duration']\n",
        "\n",
        "df_nom = data.copy()\n",
        "for var in features:\n",
        "    df_nom['log_'+var]= (df_nom[var]+1).apply(np.log)"
      ],
      "metadata": {
        "id": "4-wnLxIesIQo"
      },
      "execution_count": 186,
      "outputs": []
    },
    {
      "cell_type": "code",
      "source": [
        "df_nom.head()"
      ],
      "metadata": {
        "colab": {
          "base_uri": "https://localhost:8080/",
          "height": 322
        },
        "id": "zJvW07SJs8z6",
        "outputId": "cd9c3d4c-8ddc-4e23-90ce-b973d7621057"
      },
      "execution_count": 187,
      "outputs": [
        {
          "output_type": "execute_result",
          "data": {
            "text/plain": [
              "  Publish_date  viewer_count  like_count  comment_count categroyID  \\\n",
              "0   2022-09-20          4119         186             15         27   \n",
              "1   2022-09-19          9432         407             44         27   \n",
              "2   2022-09-04          8307         373             71         27   \n",
              "3   2022-07-11         43389        1634            236         27   \n",
              "4   2022-05-09         23215         777            218         27   \n",
              "\n",
              "   description  duration  plist_num                           plist1  \\\n",
              "0         1239        47        0.0                               na   \n",
              "1         1792        20        0.0                               na   \n",
              "2         1798         5        0.0                               na   \n",
              "3         2061        16        3.0  Neural Networks / Deep Learning   \n",
              "4         1006         1        0.0                               na   \n",
              "\n",
              "   publish_time  tag_num  log_like_count  log_comment_count  log_description  \\\n",
              "0             6        7        5.231109           2.772589         7.122867   \n",
              "1             7        5        6.011267           3.806662         7.491645   \n",
              "2            22        5        5.924256           4.276666         7.494986   \n",
              "3            77        5        7.399398           5.468060         7.631432   \n",
              "4           140        5        6.656727           5.389072         6.914731   \n",
              "\n",
              "   log_duration  \n",
              "0      3.871201  \n",
              "1      3.044522  \n",
              "2      1.791759  \n",
              "3      2.833213  \n",
              "4      0.693147  "
            ],
            "text/html": [
              "\n",
              "  <div id=\"df-61168ccf-4eba-46db-b224-6e03fd836273\">\n",
              "    <div class=\"colab-df-container\">\n",
              "      <div>\n",
              "<style scoped>\n",
              "    .dataframe tbody tr th:only-of-type {\n",
              "        vertical-align: middle;\n",
              "    }\n",
              "\n",
              "    .dataframe tbody tr th {\n",
              "        vertical-align: top;\n",
              "    }\n",
              "\n",
              "    .dataframe thead th {\n",
              "        text-align: right;\n",
              "    }\n",
              "</style>\n",
              "<table border=\"1\" class=\"dataframe\">\n",
              "  <thead>\n",
              "    <tr style=\"text-align: right;\">\n",
              "      <th></th>\n",
              "      <th>Publish_date</th>\n",
              "      <th>viewer_count</th>\n",
              "      <th>like_count</th>\n",
              "      <th>comment_count</th>\n",
              "      <th>categroyID</th>\n",
              "      <th>description</th>\n",
              "      <th>duration</th>\n",
              "      <th>plist_num</th>\n",
              "      <th>plist1</th>\n",
              "      <th>publish_time</th>\n",
              "      <th>tag_num</th>\n",
              "      <th>log_like_count</th>\n",
              "      <th>log_comment_count</th>\n",
              "      <th>log_description</th>\n",
              "      <th>log_duration</th>\n",
              "    </tr>\n",
              "  </thead>\n",
              "  <tbody>\n",
              "    <tr>\n",
              "      <th>0</th>\n",
              "      <td>2022-09-20</td>\n",
              "      <td>4119</td>\n",
              "      <td>186</td>\n",
              "      <td>15</td>\n",
              "      <td>27</td>\n",
              "      <td>1239</td>\n",
              "      <td>47</td>\n",
              "      <td>0.0</td>\n",
              "      <td>na</td>\n",
              "      <td>6</td>\n",
              "      <td>7</td>\n",
              "      <td>5.231109</td>\n",
              "      <td>2.772589</td>\n",
              "      <td>7.122867</td>\n",
              "      <td>3.871201</td>\n",
              "    </tr>\n",
              "    <tr>\n",
              "      <th>1</th>\n",
              "      <td>2022-09-19</td>\n",
              "      <td>9432</td>\n",
              "      <td>407</td>\n",
              "      <td>44</td>\n",
              "      <td>27</td>\n",
              "      <td>1792</td>\n",
              "      <td>20</td>\n",
              "      <td>0.0</td>\n",
              "      <td>na</td>\n",
              "      <td>7</td>\n",
              "      <td>5</td>\n",
              "      <td>6.011267</td>\n",
              "      <td>3.806662</td>\n",
              "      <td>7.491645</td>\n",
              "      <td>3.044522</td>\n",
              "    </tr>\n",
              "    <tr>\n",
              "      <th>2</th>\n",
              "      <td>2022-09-04</td>\n",
              "      <td>8307</td>\n",
              "      <td>373</td>\n",
              "      <td>71</td>\n",
              "      <td>27</td>\n",
              "      <td>1798</td>\n",
              "      <td>5</td>\n",
              "      <td>0.0</td>\n",
              "      <td>na</td>\n",
              "      <td>22</td>\n",
              "      <td>5</td>\n",
              "      <td>5.924256</td>\n",
              "      <td>4.276666</td>\n",
              "      <td>7.494986</td>\n",
              "      <td>1.791759</td>\n",
              "    </tr>\n",
              "    <tr>\n",
              "      <th>3</th>\n",
              "      <td>2022-07-11</td>\n",
              "      <td>43389</td>\n",
              "      <td>1634</td>\n",
              "      <td>236</td>\n",
              "      <td>27</td>\n",
              "      <td>2061</td>\n",
              "      <td>16</td>\n",
              "      <td>3.0</td>\n",
              "      <td>Neural Networks / Deep Learning</td>\n",
              "      <td>77</td>\n",
              "      <td>5</td>\n",
              "      <td>7.399398</td>\n",
              "      <td>5.468060</td>\n",
              "      <td>7.631432</td>\n",
              "      <td>2.833213</td>\n",
              "    </tr>\n",
              "    <tr>\n",
              "      <th>4</th>\n",
              "      <td>2022-05-09</td>\n",
              "      <td>23215</td>\n",
              "      <td>777</td>\n",
              "      <td>218</td>\n",
              "      <td>27</td>\n",
              "      <td>1006</td>\n",
              "      <td>1</td>\n",
              "      <td>0.0</td>\n",
              "      <td>na</td>\n",
              "      <td>140</td>\n",
              "      <td>5</td>\n",
              "      <td>6.656727</td>\n",
              "      <td>5.389072</td>\n",
              "      <td>6.914731</td>\n",
              "      <td>0.693147</td>\n",
              "    </tr>\n",
              "  </tbody>\n",
              "</table>\n",
              "</div>\n",
              "      <button class=\"colab-df-convert\" onclick=\"convertToInteractive('df-61168ccf-4eba-46db-b224-6e03fd836273')\"\n",
              "              title=\"Convert this dataframe to an interactive table.\"\n",
              "              style=\"display:none;\">\n",
              "        \n",
              "  <svg xmlns=\"http://www.w3.org/2000/svg\" height=\"24px\"viewBox=\"0 0 24 24\"\n",
              "       width=\"24px\">\n",
              "    <path d=\"M0 0h24v24H0V0z\" fill=\"none\"/>\n",
              "    <path d=\"M18.56 5.44l.94 2.06.94-2.06 2.06-.94-2.06-.94-.94-2.06-.94 2.06-2.06.94zm-11 1L8.5 8.5l.94-2.06 2.06-.94-2.06-.94L8.5 2.5l-.94 2.06-2.06.94zm10 10l.94 2.06.94-2.06 2.06-.94-2.06-.94-.94-2.06-.94 2.06-2.06.94z\"/><path d=\"M17.41 7.96l-1.37-1.37c-.4-.4-.92-.59-1.43-.59-.52 0-1.04.2-1.43.59L10.3 9.45l-7.72 7.72c-.78.78-.78 2.05 0 2.83L4 21.41c.39.39.9.59 1.41.59.51 0 1.02-.2 1.41-.59l7.78-7.78 2.81-2.81c.8-.78.8-2.07 0-2.86zM5.41 20L4 18.59l7.72-7.72 1.47 1.35L5.41 20z\"/>\n",
              "  </svg>\n",
              "      </button>\n",
              "      \n",
              "  <style>\n",
              "    .colab-df-container {\n",
              "      display:flex;\n",
              "      flex-wrap:wrap;\n",
              "      gap: 12px;\n",
              "    }\n",
              "\n",
              "    .colab-df-convert {\n",
              "      background-color: #E8F0FE;\n",
              "      border: none;\n",
              "      border-radius: 50%;\n",
              "      cursor: pointer;\n",
              "      display: none;\n",
              "      fill: #1967D2;\n",
              "      height: 32px;\n",
              "      padding: 0 0 0 0;\n",
              "      width: 32px;\n",
              "    }\n",
              "\n",
              "    .colab-df-convert:hover {\n",
              "      background-color: #E2EBFA;\n",
              "      box-shadow: 0px 1px 2px rgba(60, 64, 67, 0.3), 0px 1px 3px 1px rgba(60, 64, 67, 0.15);\n",
              "      fill: #174EA6;\n",
              "    }\n",
              "\n",
              "    [theme=dark] .colab-df-convert {\n",
              "      background-color: #3B4455;\n",
              "      fill: #D2E3FC;\n",
              "    }\n",
              "\n",
              "    [theme=dark] .colab-df-convert:hover {\n",
              "      background-color: #434B5C;\n",
              "      box-shadow: 0px 1px 3px 1px rgba(0, 0, 0, 0.15);\n",
              "      filter: drop-shadow(0px 1px 2px rgba(0, 0, 0, 0.3));\n",
              "      fill: #FFFFFF;\n",
              "    }\n",
              "  </style>\n",
              "\n",
              "      <script>\n",
              "        const buttonEl =\n",
              "          document.querySelector('#df-61168ccf-4eba-46db-b224-6e03fd836273 button.colab-df-convert');\n",
              "        buttonEl.style.display =\n",
              "          google.colab.kernel.accessAllowed ? 'block' : 'none';\n",
              "\n",
              "        async function convertToInteractive(key) {\n",
              "          const element = document.querySelector('#df-61168ccf-4eba-46db-b224-6e03fd836273');\n",
              "          const dataTable =\n",
              "            await google.colab.kernel.invokeFunction('convertToInteractive',\n",
              "                                                     [key], {});\n",
              "          if (!dataTable) return;\n",
              "\n",
              "          const docLinkHtml = 'Like what you see? Visit the ' +\n",
              "            '<a target=\"_blank\" href=https://colab.research.google.com/notebooks/data_table.ipynb>data table notebook</a>'\n",
              "            + ' to learn more about interactive tables.';\n",
              "          element.innerHTML = '';\n",
              "          dataTable['output_type'] = 'display_data';\n",
              "          await google.colab.output.renderOutput(dataTable, element);\n",
              "          const docLink = document.createElement('div');\n",
              "          docLink.innerHTML = docLinkHtml;\n",
              "          element.appendChild(docLink);\n",
              "        }\n",
              "      </script>\n",
              "    </div>\n",
              "  </div>\n",
              "  "
            ]
          },
          "metadata": {},
          "execution_count": 187
        }
      ]
    },
    {
      "cell_type": "markdown",
      "source": [
        "###Normalization"
      ],
      "metadata": {
        "id": "Hs0Y2NKylthc"
      }
    },
    {
      "cell_type": "code",
      "source": [
        "# normalize the rest numerical data\n",
        "for var in ['plist_num','publish_time','tag_num']:\n",
        "    df_nom['std_'+var]= MinMaxScaler().fit_transform(df_nom[var].values.reshape(len(df_nom), 1))"
      ],
      "metadata": {
        "id": "OhqJAgrNlzhA"
      },
      "execution_count": 189,
      "outputs": []
    },
    {
      "cell_type": "code",
      "source": [
        "df_nom.head()"
      ],
      "metadata": {
        "colab": {
          "base_uri": "https://localhost:8080/",
          "height": 322
        },
        "id": "KJ5nM99-mtTQ",
        "outputId": "8202e9ae-58c5-4a4a-b870-7684b545f1e8"
      },
      "execution_count": 190,
      "outputs": [
        {
          "output_type": "execute_result",
          "data": {
            "text/plain": [
              "  Publish_date  viewer_count  like_count  comment_count categroyID  \\\n",
              "0   2022-09-20          4119         186             15         27   \n",
              "1   2022-09-19          9432         407             44         27   \n",
              "2   2022-09-04          8307         373             71         27   \n",
              "3   2022-07-11         43389        1634            236         27   \n",
              "4   2022-05-09         23215         777            218         27   \n",
              "\n",
              "   description  duration  plist_num                           plist1  \\\n",
              "0         1239        47        0.0                               na   \n",
              "1         1792        20        0.0                               na   \n",
              "2         1798         5        0.0                               na   \n",
              "3         2061        16        3.0  Neural Networks / Deep Learning   \n",
              "4         1006         1        0.0                               na   \n",
              "\n",
              "   publish_time  tag_num  log_like_count  log_comment_count  log_description  \\\n",
              "0             6        7        5.231109           2.772589         7.122867   \n",
              "1             7        5        6.011267           3.806662         7.491645   \n",
              "2            22        5        5.924256           4.276666         7.494986   \n",
              "3            77        5        7.399398           5.468060         7.631432   \n",
              "4           140        5        6.656727           5.389072         6.914731   \n",
              "\n",
              "   log_duration  std_plist_num  std_publish_time  std_tag_num  \n",
              "0      3.871201            0.0          0.000000     0.500000  \n",
              "1      3.044522            0.0          0.000339     0.333333  \n",
              "2      1.791759            0.0          0.005426     0.333333  \n",
              "3      2.833213            0.6          0.024076     0.333333  \n",
              "4      0.693147            0.0          0.045439     0.333333  "
            ],
            "text/html": [
              "\n",
              "  <div id=\"df-221db9e4-3f05-414e-87d1-6fdcff40f5f6\">\n",
              "    <div class=\"colab-df-container\">\n",
              "      <div>\n",
              "<style scoped>\n",
              "    .dataframe tbody tr th:only-of-type {\n",
              "        vertical-align: middle;\n",
              "    }\n",
              "\n",
              "    .dataframe tbody tr th {\n",
              "        vertical-align: top;\n",
              "    }\n",
              "\n",
              "    .dataframe thead th {\n",
              "        text-align: right;\n",
              "    }\n",
              "</style>\n",
              "<table border=\"1\" class=\"dataframe\">\n",
              "  <thead>\n",
              "    <tr style=\"text-align: right;\">\n",
              "      <th></th>\n",
              "      <th>Publish_date</th>\n",
              "      <th>viewer_count</th>\n",
              "      <th>like_count</th>\n",
              "      <th>comment_count</th>\n",
              "      <th>categroyID</th>\n",
              "      <th>description</th>\n",
              "      <th>duration</th>\n",
              "      <th>plist_num</th>\n",
              "      <th>plist1</th>\n",
              "      <th>publish_time</th>\n",
              "      <th>tag_num</th>\n",
              "      <th>log_like_count</th>\n",
              "      <th>log_comment_count</th>\n",
              "      <th>log_description</th>\n",
              "      <th>log_duration</th>\n",
              "      <th>std_plist_num</th>\n",
              "      <th>std_publish_time</th>\n",
              "      <th>std_tag_num</th>\n",
              "    </tr>\n",
              "  </thead>\n",
              "  <tbody>\n",
              "    <tr>\n",
              "      <th>0</th>\n",
              "      <td>2022-09-20</td>\n",
              "      <td>4119</td>\n",
              "      <td>186</td>\n",
              "      <td>15</td>\n",
              "      <td>27</td>\n",
              "      <td>1239</td>\n",
              "      <td>47</td>\n",
              "      <td>0.0</td>\n",
              "      <td>na</td>\n",
              "      <td>6</td>\n",
              "      <td>7</td>\n",
              "      <td>5.231109</td>\n",
              "      <td>2.772589</td>\n",
              "      <td>7.122867</td>\n",
              "      <td>3.871201</td>\n",
              "      <td>0.0</td>\n",
              "      <td>0.000000</td>\n",
              "      <td>0.500000</td>\n",
              "    </tr>\n",
              "    <tr>\n",
              "      <th>1</th>\n",
              "      <td>2022-09-19</td>\n",
              "      <td>9432</td>\n",
              "      <td>407</td>\n",
              "      <td>44</td>\n",
              "      <td>27</td>\n",
              "      <td>1792</td>\n",
              "      <td>20</td>\n",
              "      <td>0.0</td>\n",
              "      <td>na</td>\n",
              "      <td>7</td>\n",
              "      <td>5</td>\n",
              "      <td>6.011267</td>\n",
              "      <td>3.806662</td>\n",
              "      <td>7.491645</td>\n",
              "      <td>3.044522</td>\n",
              "      <td>0.0</td>\n",
              "      <td>0.000339</td>\n",
              "      <td>0.333333</td>\n",
              "    </tr>\n",
              "    <tr>\n",
              "      <th>2</th>\n",
              "      <td>2022-09-04</td>\n",
              "      <td>8307</td>\n",
              "      <td>373</td>\n",
              "      <td>71</td>\n",
              "      <td>27</td>\n",
              "      <td>1798</td>\n",
              "      <td>5</td>\n",
              "      <td>0.0</td>\n",
              "      <td>na</td>\n",
              "      <td>22</td>\n",
              "      <td>5</td>\n",
              "      <td>5.924256</td>\n",
              "      <td>4.276666</td>\n",
              "      <td>7.494986</td>\n",
              "      <td>1.791759</td>\n",
              "      <td>0.0</td>\n",
              "      <td>0.005426</td>\n",
              "      <td>0.333333</td>\n",
              "    </tr>\n",
              "    <tr>\n",
              "      <th>3</th>\n",
              "      <td>2022-07-11</td>\n",
              "      <td>43389</td>\n",
              "      <td>1634</td>\n",
              "      <td>236</td>\n",
              "      <td>27</td>\n",
              "      <td>2061</td>\n",
              "      <td>16</td>\n",
              "      <td>3.0</td>\n",
              "      <td>Neural Networks / Deep Learning</td>\n",
              "      <td>77</td>\n",
              "      <td>5</td>\n",
              "      <td>7.399398</td>\n",
              "      <td>5.468060</td>\n",
              "      <td>7.631432</td>\n",
              "      <td>2.833213</td>\n",
              "      <td>0.6</td>\n",
              "      <td>0.024076</td>\n",
              "      <td>0.333333</td>\n",
              "    </tr>\n",
              "    <tr>\n",
              "      <th>4</th>\n",
              "      <td>2022-05-09</td>\n",
              "      <td>23215</td>\n",
              "      <td>777</td>\n",
              "      <td>218</td>\n",
              "      <td>27</td>\n",
              "      <td>1006</td>\n",
              "      <td>1</td>\n",
              "      <td>0.0</td>\n",
              "      <td>na</td>\n",
              "      <td>140</td>\n",
              "      <td>5</td>\n",
              "      <td>6.656727</td>\n",
              "      <td>5.389072</td>\n",
              "      <td>6.914731</td>\n",
              "      <td>0.693147</td>\n",
              "      <td>0.0</td>\n",
              "      <td>0.045439</td>\n",
              "      <td>0.333333</td>\n",
              "    </tr>\n",
              "  </tbody>\n",
              "</table>\n",
              "</div>\n",
              "      <button class=\"colab-df-convert\" onclick=\"convertToInteractive('df-221db9e4-3f05-414e-87d1-6fdcff40f5f6')\"\n",
              "              title=\"Convert this dataframe to an interactive table.\"\n",
              "              style=\"display:none;\">\n",
              "        \n",
              "  <svg xmlns=\"http://www.w3.org/2000/svg\" height=\"24px\"viewBox=\"0 0 24 24\"\n",
              "       width=\"24px\">\n",
              "    <path d=\"M0 0h24v24H0V0z\" fill=\"none\"/>\n",
              "    <path d=\"M18.56 5.44l.94 2.06.94-2.06 2.06-.94-2.06-.94-.94-2.06-.94 2.06-2.06.94zm-11 1L8.5 8.5l.94-2.06 2.06-.94-2.06-.94L8.5 2.5l-.94 2.06-2.06.94zm10 10l.94 2.06.94-2.06 2.06-.94-2.06-.94-.94-2.06-.94 2.06-2.06.94z\"/><path d=\"M17.41 7.96l-1.37-1.37c-.4-.4-.92-.59-1.43-.59-.52 0-1.04.2-1.43.59L10.3 9.45l-7.72 7.72c-.78.78-.78 2.05 0 2.83L4 21.41c.39.39.9.59 1.41.59.51 0 1.02-.2 1.41-.59l7.78-7.78 2.81-2.81c.8-.78.8-2.07 0-2.86zM5.41 20L4 18.59l7.72-7.72 1.47 1.35L5.41 20z\"/>\n",
              "  </svg>\n",
              "      </button>\n",
              "      \n",
              "  <style>\n",
              "    .colab-df-container {\n",
              "      display:flex;\n",
              "      flex-wrap:wrap;\n",
              "      gap: 12px;\n",
              "    }\n",
              "\n",
              "    .colab-df-convert {\n",
              "      background-color: #E8F0FE;\n",
              "      border: none;\n",
              "      border-radius: 50%;\n",
              "      cursor: pointer;\n",
              "      display: none;\n",
              "      fill: #1967D2;\n",
              "      height: 32px;\n",
              "      padding: 0 0 0 0;\n",
              "      width: 32px;\n",
              "    }\n",
              "\n",
              "    .colab-df-convert:hover {\n",
              "      background-color: #E2EBFA;\n",
              "      box-shadow: 0px 1px 2px rgba(60, 64, 67, 0.3), 0px 1px 3px 1px rgba(60, 64, 67, 0.15);\n",
              "      fill: #174EA6;\n",
              "    }\n",
              "\n",
              "    [theme=dark] .colab-df-convert {\n",
              "      background-color: #3B4455;\n",
              "      fill: #D2E3FC;\n",
              "    }\n",
              "\n",
              "    [theme=dark] .colab-df-convert:hover {\n",
              "      background-color: #434B5C;\n",
              "      box-shadow: 0px 1px 3px 1px rgba(0, 0, 0, 0.15);\n",
              "      filter: drop-shadow(0px 1px 2px rgba(0, 0, 0, 0.3));\n",
              "      fill: #FFFFFF;\n",
              "    }\n",
              "  </style>\n",
              "\n",
              "      <script>\n",
              "        const buttonEl =\n",
              "          document.querySelector('#df-221db9e4-3f05-414e-87d1-6fdcff40f5f6 button.colab-df-convert');\n",
              "        buttonEl.style.display =\n",
              "          google.colab.kernel.accessAllowed ? 'block' : 'none';\n",
              "\n",
              "        async function convertToInteractive(key) {\n",
              "          const element = document.querySelector('#df-221db9e4-3f05-414e-87d1-6fdcff40f5f6');\n",
              "          const dataTable =\n",
              "            await google.colab.kernel.invokeFunction('convertToInteractive',\n",
              "                                                     [key], {});\n",
              "          if (!dataTable) return;\n",
              "\n",
              "          const docLinkHtml = 'Like what you see? Visit the ' +\n",
              "            '<a target=\"_blank\" href=https://colab.research.google.com/notebooks/data_table.ipynb>data table notebook</a>'\n",
              "            + ' to learn more about interactive tables.';\n",
              "          element.innerHTML = '';\n",
              "          dataTable['output_type'] = 'display_data';\n",
              "          await google.colab.output.renderOutput(dataTable, element);\n",
              "          const docLink = document.createElement('div');\n",
              "          docLink.innerHTML = docLinkHtml;\n",
              "          element.appendChild(docLink);\n",
              "        }\n",
              "      </script>\n",
              "    </div>\n",
              "  </div>\n",
              "  "
            ]
          },
          "metadata": {},
          "execution_count": 190
        }
      ]
    },
    {
      "cell_type": "markdown",
      "source": [
        "**Data Processing**\n",
        "\n",
        "we take several steps in Processing</br>\n",
        "\n",
        "Then we fill in the features that have missing values.\n",
        "After filling in the missing values, we checked duplicated data rows. No duplicatd row was found.\n",
        "The transformation log is carried out on features with numerical data values to convert them to normal / almost normal distributions, this is done because there are several features that have a skewed data distribution.\n",
        "Finally, we normalized so that the scale of each numeric feature has the same scale and it is hoped that it can simplify the process of learning the machine learning model data that we created."
      ],
      "metadata": {
        "id": "EUvVdzosnWUA"
      }
    },
    {
      "cell_type": "markdown",
      "source": [
        "##Build models\n",
        "chose relevant variables"
      ],
      "metadata": {
        "id": "wgYYNuy1wIjj"
      }
    },
    {
      "cell_type": "code",
      "source": [
        "df_nom.columns.values"
      ],
      "metadata": {
        "colab": {
          "base_uri": "https://localhost:8080/"
        },
        "id": "QX-FiIUbwY7I",
        "outputId": "1f03420f-e4ac-4542-f7ed-013016352d61"
      },
      "execution_count": 192,
      "outputs": [
        {
          "output_type": "execute_result",
          "data": {
            "text/plain": [
              "array(['Publish_date', 'viewer_count', 'like_count', 'comment_count',\n",
              "       'categroyID', 'description', 'duration', 'plist_num', 'plist1',\n",
              "       'publish_time', 'tag_num', 'log_like_count', 'log_comment_count',\n",
              "       'log_description', 'log_duration', 'std_plist_num',\n",
              "       'std_publish_time', 'std_tag_num'], dtype=object)"
            ]
          },
          "metadata": {},
          "execution_count": 192
        }
      ]
    },
    {
      "cell_type": "code",
      "source": [
        "df_mol=df_nom[['categroyID', 'plist1', 'log_like_count', 'log_comment_count',\n",
        "       'log_description', 'log_duration', 'std_plist_num','std_publish_time', 'std_tag_num']]\n",
        "df_mol.head()"
      ],
      "metadata": {
        "colab": {
          "base_uri": "https://localhost:8080/",
          "height": 206
        },
        "id": "pX-P3lOcwRSB",
        "outputId": "ec6ba59a-b144-4493-c87e-4e5d0368b186"
      },
      "execution_count": 194,
      "outputs": [
        {
          "output_type": "execute_result",
          "data": {
            "text/plain": [
              "  categroyID                           plist1  log_like_count  \\\n",
              "0         27                               na        5.231109   \n",
              "1         27                               na        6.011267   \n",
              "2         27                               na        5.924256   \n",
              "3         27  Neural Networks / Deep Learning        7.399398   \n",
              "4         27                               na        6.656727   \n",
              "\n",
              "   log_comment_count  log_description  log_duration  std_plist_num  \\\n",
              "0           2.772589         7.122867      3.871201            0.0   \n",
              "1           3.806662         7.491645      3.044522            0.0   \n",
              "2           4.276666         7.494986      1.791759            0.0   \n",
              "3           5.468060         7.631432      2.833213            0.6   \n",
              "4           5.389072         6.914731      0.693147            0.0   \n",
              "\n",
              "   std_publish_time  std_tag_num  \n",
              "0          0.000000     0.500000  \n",
              "1          0.000339     0.333333  \n",
              "2          0.005426     0.333333  \n",
              "3          0.024076     0.333333  \n",
              "4          0.045439     0.333333  "
            ],
            "text/html": [
              "\n",
              "  <div id=\"df-b92f25dc-af3c-4be7-9555-16045817d015\">\n",
              "    <div class=\"colab-df-container\">\n",
              "      <div>\n",
              "<style scoped>\n",
              "    .dataframe tbody tr th:only-of-type {\n",
              "        vertical-align: middle;\n",
              "    }\n",
              "\n",
              "    .dataframe tbody tr th {\n",
              "        vertical-align: top;\n",
              "    }\n",
              "\n",
              "    .dataframe thead th {\n",
              "        text-align: right;\n",
              "    }\n",
              "</style>\n",
              "<table border=\"1\" class=\"dataframe\">\n",
              "  <thead>\n",
              "    <tr style=\"text-align: right;\">\n",
              "      <th></th>\n",
              "      <th>categroyID</th>\n",
              "      <th>plist1</th>\n",
              "      <th>log_like_count</th>\n",
              "      <th>log_comment_count</th>\n",
              "      <th>log_description</th>\n",
              "      <th>log_duration</th>\n",
              "      <th>std_plist_num</th>\n",
              "      <th>std_publish_time</th>\n",
              "      <th>std_tag_num</th>\n",
              "    </tr>\n",
              "  </thead>\n",
              "  <tbody>\n",
              "    <tr>\n",
              "      <th>0</th>\n",
              "      <td>27</td>\n",
              "      <td>na</td>\n",
              "      <td>5.231109</td>\n",
              "      <td>2.772589</td>\n",
              "      <td>7.122867</td>\n",
              "      <td>3.871201</td>\n",
              "      <td>0.0</td>\n",
              "      <td>0.000000</td>\n",
              "      <td>0.500000</td>\n",
              "    </tr>\n",
              "    <tr>\n",
              "      <th>1</th>\n",
              "      <td>27</td>\n",
              "      <td>na</td>\n",
              "      <td>6.011267</td>\n",
              "      <td>3.806662</td>\n",
              "      <td>7.491645</td>\n",
              "      <td>3.044522</td>\n",
              "      <td>0.0</td>\n",
              "      <td>0.000339</td>\n",
              "      <td>0.333333</td>\n",
              "    </tr>\n",
              "    <tr>\n",
              "      <th>2</th>\n",
              "      <td>27</td>\n",
              "      <td>na</td>\n",
              "      <td>5.924256</td>\n",
              "      <td>4.276666</td>\n",
              "      <td>7.494986</td>\n",
              "      <td>1.791759</td>\n",
              "      <td>0.0</td>\n",
              "      <td>0.005426</td>\n",
              "      <td>0.333333</td>\n",
              "    </tr>\n",
              "    <tr>\n",
              "      <th>3</th>\n",
              "      <td>27</td>\n",
              "      <td>Neural Networks / Deep Learning</td>\n",
              "      <td>7.399398</td>\n",
              "      <td>5.468060</td>\n",
              "      <td>7.631432</td>\n",
              "      <td>2.833213</td>\n",
              "      <td>0.6</td>\n",
              "      <td>0.024076</td>\n",
              "      <td>0.333333</td>\n",
              "    </tr>\n",
              "    <tr>\n",
              "      <th>4</th>\n",
              "      <td>27</td>\n",
              "      <td>na</td>\n",
              "      <td>6.656727</td>\n",
              "      <td>5.389072</td>\n",
              "      <td>6.914731</td>\n",
              "      <td>0.693147</td>\n",
              "      <td>0.0</td>\n",
              "      <td>0.045439</td>\n",
              "      <td>0.333333</td>\n",
              "    </tr>\n",
              "  </tbody>\n",
              "</table>\n",
              "</div>\n",
              "      <button class=\"colab-df-convert\" onclick=\"convertToInteractive('df-b92f25dc-af3c-4be7-9555-16045817d015')\"\n",
              "              title=\"Convert this dataframe to an interactive table.\"\n",
              "              style=\"display:none;\">\n",
              "        \n",
              "  <svg xmlns=\"http://www.w3.org/2000/svg\" height=\"24px\"viewBox=\"0 0 24 24\"\n",
              "       width=\"24px\">\n",
              "    <path d=\"M0 0h24v24H0V0z\" fill=\"none\"/>\n",
              "    <path d=\"M18.56 5.44l.94 2.06.94-2.06 2.06-.94-2.06-.94-.94-2.06-.94 2.06-2.06.94zm-11 1L8.5 8.5l.94-2.06 2.06-.94-2.06-.94L8.5 2.5l-.94 2.06-2.06.94zm10 10l.94 2.06.94-2.06 2.06-.94-2.06-.94-.94-2.06-.94 2.06-2.06.94z\"/><path d=\"M17.41 7.96l-1.37-1.37c-.4-.4-.92-.59-1.43-.59-.52 0-1.04.2-1.43.59L10.3 9.45l-7.72 7.72c-.78.78-.78 2.05 0 2.83L4 21.41c.39.39.9.59 1.41.59.51 0 1.02-.2 1.41-.59l7.78-7.78 2.81-2.81c.8-.78.8-2.07 0-2.86zM5.41 20L4 18.59l7.72-7.72 1.47 1.35L5.41 20z\"/>\n",
              "  </svg>\n",
              "      </button>\n",
              "      \n",
              "  <style>\n",
              "    .colab-df-container {\n",
              "      display:flex;\n",
              "      flex-wrap:wrap;\n",
              "      gap: 12px;\n",
              "    }\n",
              "\n",
              "    .colab-df-convert {\n",
              "      background-color: #E8F0FE;\n",
              "      border: none;\n",
              "      border-radius: 50%;\n",
              "      cursor: pointer;\n",
              "      display: none;\n",
              "      fill: #1967D2;\n",
              "      height: 32px;\n",
              "      padding: 0 0 0 0;\n",
              "      width: 32px;\n",
              "    }\n",
              "\n",
              "    .colab-df-convert:hover {\n",
              "      background-color: #E2EBFA;\n",
              "      box-shadow: 0px 1px 2px rgba(60, 64, 67, 0.3), 0px 1px 3px 1px rgba(60, 64, 67, 0.15);\n",
              "      fill: #174EA6;\n",
              "    }\n",
              "\n",
              "    [theme=dark] .colab-df-convert {\n",
              "      background-color: #3B4455;\n",
              "      fill: #D2E3FC;\n",
              "    }\n",
              "\n",
              "    [theme=dark] .colab-df-convert:hover {\n",
              "      background-color: #434B5C;\n",
              "      box-shadow: 0px 1px 3px 1px rgba(0, 0, 0, 0.15);\n",
              "      filter: drop-shadow(0px 1px 2px rgba(0, 0, 0, 0.3));\n",
              "      fill: #FFFFFF;\n",
              "    }\n",
              "  </style>\n",
              "\n",
              "      <script>\n",
              "        const buttonEl =\n",
              "          document.querySelector('#df-b92f25dc-af3c-4be7-9555-16045817d015 button.colab-df-convert');\n",
              "        buttonEl.style.display =\n",
              "          google.colab.kernel.accessAllowed ? 'block' : 'none';\n",
              "\n",
              "        async function convertToInteractive(key) {\n",
              "          const element = document.querySelector('#df-b92f25dc-af3c-4be7-9555-16045817d015');\n",
              "          const dataTable =\n",
              "            await google.colab.kernel.invokeFunction('convertToInteractive',\n",
              "                                                     [key], {});\n",
              "          if (!dataTable) return;\n",
              "\n",
              "          const docLinkHtml = 'Like what you see? Visit the ' +\n",
              "            '<a target=\"_blank\" href=https://colab.research.google.com/notebooks/data_table.ipynb>data table notebook</a>'\n",
              "            + ' to learn more about interactive tables.';\n",
              "          element.innerHTML = '';\n",
              "          dataTable['output_type'] = 'display_data';\n",
              "          await google.colab.output.renderOutput(dataTable, element);\n",
              "          const docLink = document.createElement('div');\n",
              "          docLink.innerHTML = docLinkHtml;\n",
              "          element.appendChild(docLink);\n",
              "        }\n",
              "      </script>\n",
              "    </div>\n",
              "  </div>\n",
              "  "
            ]
          },
          "metadata": {},
          "execution_count": 194
        }
      ]
    },
    {
      "cell_type": "code",
      "source": [
        "df_dummies=pd.get_dummies(df_mol)\n",
        "X=df_dummies\n",
        "y=df_nom['viewer_count']\n",
        "X.shape,y.shape"
      ],
      "metadata": {
        "colab": {
          "base_uri": "https://localhost:8080/"
        },
        "id": "O8LwoWrwxEV8",
        "outputId": "a5a1d7ff-140e-451c-8c45-29b193829e98"
      },
      "execution_count": 196,
      "outputs": [
        {
          "output_type": "execute_result",
          "data": {
            "text/plain": [
              "((221, 28), (221,))"
            ]
          },
          "metadata": {},
          "execution_count": 196
        }
      ]
    },
    {
      "cell_type": "markdown",
      "source": [
        "###Split Train & Test"
      ],
      "metadata": {
        "id": "0Eqp2-ityT_2"
      }
    },
    {
      "cell_type": "code",
      "source": [
        "from sklearn.model_selection import train_test_split\n",
        "xtrain, xtest, ytrain, ytest = train_test_split(X, y, test_size=0.1, random_state=42)"
      ],
      "metadata": {
        "id": "ldnN3V3VyKM_"
      },
      "execution_count": 199,
      "outputs": []
    },
    {
      "cell_type": "markdown",
      "source": [
        "###Fit Simple Linear Regression Model"
      ],
      "metadata": {
        "id": "LVmfjUtYzB9N"
      }
    },
    {
      "cell_type": "code",
      "source": [
        "#Fitting simple linear regression to the Training Set\n",
        "from sklearn.linear_model import LinearRegression\n",
        "regressor = LinearRegression()\n",
        "regressor.fit(xtrain, ytrain)"
      ],
      "metadata": {
        "colab": {
          "base_uri": "https://localhost:8080/"
        },
        "id": "YSmfOFLyzE2G",
        "outputId": "8a1d4c6c-bcec-4807-cc80-ebce54f3945a"
      },
      "execution_count": 200,
      "outputs": [
        {
          "output_type": "execute_result",
          "data": {
            "text/plain": [
              "LinearRegression()"
            ]
          },
          "metadata": {},
          "execution_count": 200
        }
      ]
    },
    {
      "cell_type": "code",
      "source": [
        "pred = regressor.predict(xtest) #Predicting the views"
      ],
      "metadata": {
        "id": "lAYrdX-6zSct"
      },
      "execution_count": 201,
      "outputs": []
    },
    {
      "cell_type": "code",
      "source": [
        "#Evaluation function\n",
        "from sklearn.metrics import mean_squared_error, mean_absolute_error, r2_score\n",
        "def eval_regression(model, pred, xtrain, ytrain, xtest, ytest):\n",
        "    print(\"MAE: %.2f\" % mean_absolute_error(ytest, pred)) # The MAE\n",
        "    print(\"RMSE: %.2f\" % mean_squared_error(ytest, pred, squared=False)) # The RMSE\n",
        "    print('R2 score: %.2f' % r2_score(ytest, pred)) # Explained variance score: 1 is perfect prediction"
      ],
      "metadata": {
        "id": "7S1OPUCczXrY"
      },
      "execution_count": 205,
      "outputs": []
    },
    {
      "cell_type": "code",
      "source": [
        "eval_regression(regressor, pred, xtrain, ytrain, xtest,ytest)"
      ],
      "metadata": {
        "colab": {
          "base_uri": "https://localhost:8080/"
        },
        "id": "BJ6ZLP93z3jK",
        "outputId": "f1dd36b1-2ac4-4a21-f477-27b9a262d988"
      },
      "execution_count": 206,
      "outputs": [
        {
          "output_type": "stream",
          "name": "stdout",
          "text": [
            "MAE: 156829.24\n",
            "RMSE: 285920.98\n",
            "R2 score: 0.58\n"
          ]
        }
      ]
    },
    {
      "cell_type": "code",
      "source": [],
      "metadata": {
        "id": "uRL2N3U_0CVW"
      },
      "execution_count": null,
      "outputs": []
    },
    {
      "cell_type": "markdown",
      "source": [
        "###Fit Ridge Regularization Model"
      ],
      "metadata": {
        "id": "yGlZB0Nj0Gjy"
      }
    },
    {
      "cell_type": "code",
      "source": [
        "from sklearn.linear_model import Ridge\n",
        "ridge_model = Ridge()\n",
        "ridge_model.fit(xtrain, ytrain)\n",
        "pred = ridge_model.predict(xtest)\n",
        "eval_regression(regressor, pred, xtrain, ytrain, xtest,ytest)"
      ],
      "metadata": {
        "colab": {
          "base_uri": "https://localhost:8080/"
        },
        "id": "SdEHA_Vu0IDy",
        "outputId": "00f1cd26-0023-4d65-9158-72f183a81bc6"
      },
      "execution_count": 207,
      "outputs": [
        {
          "output_type": "stream",
          "name": "stdout",
          "text": [
            "MAE: 150032.25\n",
            "RMSE: 289477.13\n",
            "R2 score: 0.57\n"
          ]
        }
      ]
    },
    {
      "cell_type": "markdown",
      "source": [
        "Randomized Search\n"
      ],
      "metadata": {
        "id": "k8elxaFx1Ft-"
      }
    },
    {
      "cell_type": "code",
      "source": [
        "from sklearn.model_selection import RandomizedSearchCV\n",
        "from scipy.stats import uniform\n",
        "\n",
        "alpha = [200, 230, 250,265, 270, 275, 290, 300, 500] # alpha\n",
        "hyperparameters = dict(alpha=alpha)\n",
        "\n",
        "from sklearn.linear_model import Ridge\n",
        "ridge_model = Ridge()\n",
        "clf = RandomizedSearchCV(ridge_model, hyperparameters, cv=5, random_state=42, scoring='r2')\n",
        "\n",
        "#Fitting Model\n",
        "best_model = clf.fit(xtrain, ytrain)\n",
        "pred = best_model.predict(xtest)\n",
        "eval_regression(best_model, pred, xtrain, ytrain, xtest, ytest)"
      ],
      "metadata": {
        "colab": {
          "base_uri": "https://localhost:8080/"
        },
        "id": "gHzSrBGE1MaJ",
        "outputId": "32fa8068-c9f3-4c7e-9b1a-c5339761c9d1"
      },
      "execution_count": 208,
      "outputs": [
        {
          "output_type": "stream",
          "name": "stderr",
          "text": [
            "/usr/local/lib/python3.7/dist-packages/sklearn/model_selection/_search.py:296: UserWarning: The total space of parameters 9 is smaller than n_iter=10. Running 9 iterations. For exhaustive searches, use GridSearchCV.\n",
            "  UserWarning,\n"
          ]
        },
        {
          "output_type": "stream",
          "name": "stdout",
          "text": [
            "MAE: 192949.73\n",
            "RMSE: 354653.77\n",
            "R2 score: 0.36\n"
          ]
        }
      ]
    },
    {
      "cell_type": "markdown",
      "source": [
        "###Fit Lasso Regularization Model"
      ],
      "metadata": {
        "id": "FovOySO91U-c"
      }
    },
    {
      "cell_type": "code",
      "source": [
        "from sklearn.linear_model import Lasso\n",
        "lasso_model = Lasso()\n",
        "lasso_model.fit(xtrain, ytrain)\n",
        "pred = lasso_model.predict(xtest)\n",
        "eval_regression(lasso_model, pred, xtrain, ytrain, xtest, ytest)\n"
      ],
      "metadata": {
        "colab": {
          "base_uri": "https://localhost:8080/"
        },
        "id": "QivS-CZY1UVs",
        "outputId": "48ad5c9a-0383-4eeb-eafb-b98058297375"
      },
      "execution_count": 209,
      "outputs": [
        {
          "output_type": "stream",
          "name": "stdout",
          "text": [
            "MAE: 156826.27\n",
            "RMSE: 285922.73\n",
            "R2 score: 0.58\n"
          ]
        },
        {
          "output_type": "stream",
          "name": "stderr",
          "text": [
            "/usr/local/lib/python3.7/dist-packages/sklearn/linear_model/_coordinate_descent.py:648: ConvergenceWarning: Objective did not converge. You might want to increase the number of iterations, check the scale of the features or consider increasing regularisation. Duality gap: 1.031e+12, tolerance: 1.242e+09\n",
            "  coef_, l1_reg, l2_reg, X, y, max_iter, tol, rng, random, positive\n"
          ]
        }
      ]
    },
    {
      "cell_type": "markdown",
      "source": [
        "Randomized Search"
      ],
      "metadata": {
        "id": "ATExdOBd1jok"
      }
    },
    {
      "cell_type": "code",
      "source": [
        "from sklearn.model_selection import RandomizedSearchCV\n",
        "from scipy.stats import uniform\n",
        "\n",
        "alpha = [0.02, 0.024, 0.025, 0.026, 0.03] # alpha or lambda\n",
        "\n",
        "hyperparameters = dict(alpha=alpha)\n",
        "\n",
        "from sklearn.linear_model import Lasso\n",
        "lasso_model = Lasso()\n",
        "clf = RandomizedSearchCV(lasso_model, hyperparameters, cv=5, random_state=42, scoring='r2')\n",
        "\n",
        "#Fitting Model\n",
        "best_model = clf.fit(xtrain, ytrain)\n",
        "pred = best_model.predict(xtest)\n",
        "eval_regression(best_model, pred, xtrain, ytrain, xtest, ytest)"
      ],
      "metadata": {
        "colab": {
          "base_uri": "https://localhost:8080/"
        },
        "id": "7LcLOyK51tzC",
        "outputId": "c00ec38f-3036-4915-a1cd-14d653eb8076"
      },
      "execution_count": 210,
      "outputs": [
        {
          "output_type": "stream",
          "name": "stderr",
          "text": [
            "/usr/local/lib/python3.7/dist-packages/sklearn/model_selection/_search.py:296: UserWarning: The total space of parameters 5 is smaller than n_iter=10. Running 5 iterations. For exhaustive searches, use GridSearchCV.\n",
            "  UserWarning,\n",
            "/usr/local/lib/python3.7/dist-packages/sklearn/linear_model/_coordinate_descent.py:648: ConvergenceWarning: Objective did not converge. You might want to increase the number of iterations, check the scale of the features or consider increasing regularisation. Duality gap: 8.925e+11, tolerance: 1.028e+09\n",
            "  coef_, l1_reg, l2_reg, X, y, max_iter, tol, rng, random, positive\n",
            "/usr/local/lib/python3.7/dist-packages/sklearn/linear_model/_coordinate_descent.py:648: ConvergenceWarning: Objective did not converge. You might want to increase the number of iterations, check the scale of the features or consider increasing regularisation. Duality gap: 4.842e+11, tolerance: 8.110e+08\n",
            "  coef_, l1_reg, l2_reg, X, y, max_iter, tol, rng, random, positive\n",
            "/usr/local/lib/python3.7/dist-packages/sklearn/linear_model/_coordinate_descent.py:648: ConvergenceWarning: Objective did not converge. You might want to increase the number of iterations, check the scale of the features or consider increasing regularisation. Duality gap: 8.297e+11, tolerance: 1.089e+09\n",
            "  coef_, l1_reg, l2_reg, X, y, max_iter, tol, rng, random, positive\n",
            "/usr/local/lib/python3.7/dist-packages/sklearn/linear_model/_coordinate_descent.py:648: ConvergenceWarning: Objective did not converge. You might want to increase the number of iterations, check the scale of the features or consider increasing regularisation. Duality gap: 7.742e+11, tolerance: 8.896e+08\n",
            "  coef_, l1_reg, l2_reg, X, y, max_iter, tol, rng, random, positive\n",
            "/usr/local/lib/python3.7/dist-packages/sklearn/linear_model/_coordinate_descent.py:648: ConvergenceWarning: Objective did not converge. You might want to increase the number of iterations, check the scale of the features or consider increasing regularisation. Duality gap: 9.261e+11, tolerance: 1.144e+09\n",
            "  coef_, l1_reg, l2_reg, X, y, max_iter, tol, rng, random, positive\n",
            "/usr/local/lib/python3.7/dist-packages/sklearn/linear_model/_coordinate_descent.py:648: ConvergenceWarning: Objective did not converge. You might want to increase the number of iterations, check the scale of the features or consider increasing regularisation. Duality gap: 8.925e+11, tolerance: 1.028e+09\n",
            "  coef_, l1_reg, l2_reg, X, y, max_iter, tol, rng, random, positive\n",
            "/usr/local/lib/python3.7/dist-packages/sklearn/linear_model/_coordinate_descent.py:648: ConvergenceWarning: Objective did not converge. You might want to increase the number of iterations, check the scale of the features or consider increasing regularisation. Duality gap: 4.842e+11, tolerance: 8.110e+08\n",
            "  coef_, l1_reg, l2_reg, X, y, max_iter, tol, rng, random, positive\n",
            "/usr/local/lib/python3.7/dist-packages/sklearn/linear_model/_coordinate_descent.py:648: ConvergenceWarning: Objective did not converge. You might want to increase the number of iterations, check the scale of the features or consider increasing regularisation. Duality gap: 8.297e+11, tolerance: 1.089e+09\n",
            "  coef_, l1_reg, l2_reg, X, y, max_iter, tol, rng, random, positive\n",
            "/usr/local/lib/python3.7/dist-packages/sklearn/linear_model/_coordinate_descent.py:648: ConvergenceWarning: Objective did not converge. You might want to increase the number of iterations, check the scale of the features or consider increasing regularisation. Duality gap: 7.742e+11, tolerance: 8.896e+08\n",
            "  coef_, l1_reg, l2_reg, X, y, max_iter, tol, rng, random, positive\n",
            "/usr/local/lib/python3.7/dist-packages/sklearn/linear_model/_coordinate_descent.py:648: ConvergenceWarning: Objective did not converge. You might want to increase the number of iterations, check the scale of the features or consider increasing regularisation. Duality gap: 9.261e+11, tolerance: 1.144e+09\n",
            "  coef_, l1_reg, l2_reg, X, y, max_iter, tol, rng, random, positive\n",
            "/usr/local/lib/python3.7/dist-packages/sklearn/linear_model/_coordinate_descent.py:648: ConvergenceWarning: Objective did not converge. You might want to increase the number of iterations, check the scale of the features or consider increasing regularisation. Duality gap: 8.925e+11, tolerance: 1.028e+09\n",
            "  coef_, l1_reg, l2_reg, X, y, max_iter, tol, rng, random, positive\n",
            "/usr/local/lib/python3.7/dist-packages/sklearn/linear_model/_coordinate_descent.py:648: ConvergenceWarning: Objective did not converge. You might want to increase the number of iterations, check the scale of the features or consider increasing regularisation. Duality gap: 4.842e+11, tolerance: 8.110e+08\n",
            "  coef_, l1_reg, l2_reg, X, y, max_iter, tol, rng, random, positive\n",
            "/usr/local/lib/python3.7/dist-packages/sklearn/linear_model/_coordinate_descent.py:648: ConvergenceWarning: Objective did not converge. You might want to increase the number of iterations, check the scale of the features or consider increasing regularisation. Duality gap: 8.297e+11, tolerance: 1.089e+09\n",
            "  coef_, l1_reg, l2_reg, X, y, max_iter, tol, rng, random, positive\n",
            "/usr/local/lib/python3.7/dist-packages/sklearn/linear_model/_coordinate_descent.py:648: ConvergenceWarning: Objective did not converge. You might want to increase the number of iterations, check the scale of the features or consider increasing regularisation. Duality gap: 7.742e+11, tolerance: 8.896e+08\n",
            "  coef_, l1_reg, l2_reg, X, y, max_iter, tol, rng, random, positive\n",
            "/usr/local/lib/python3.7/dist-packages/sklearn/linear_model/_coordinate_descent.py:648: ConvergenceWarning: Objective did not converge. You might want to increase the number of iterations, check the scale of the features or consider increasing regularisation. Duality gap: 9.261e+11, tolerance: 1.144e+09\n",
            "  coef_, l1_reg, l2_reg, X, y, max_iter, tol, rng, random, positive\n",
            "/usr/local/lib/python3.7/dist-packages/sklearn/linear_model/_coordinate_descent.py:648: ConvergenceWarning: Objective did not converge. You might want to increase the number of iterations, check the scale of the features or consider increasing regularisation. Duality gap: 8.925e+11, tolerance: 1.028e+09\n",
            "  coef_, l1_reg, l2_reg, X, y, max_iter, tol, rng, random, positive\n",
            "/usr/local/lib/python3.7/dist-packages/sklearn/linear_model/_coordinate_descent.py:648: ConvergenceWarning: Objective did not converge. You might want to increase the number of iterations, check the scale of the features or consider increasing regularisation. Duality gap: 4.842e+11, tolerance: 8.110e+08\n",
            "  coef_, l1_reg, l2_reg, X, y, max_iter, tol, rng, random, positive\n",
            "/usr/local/lib/python3.7/dist-packages/sklearn/linear_model/_coordinate_descent.py:648: ConvergenceWarning: Objective did not converge. You might want to increase the number of iterations, check the scale of the features or consider increasing regularisation. Duality gap: 8.297e+11, tolerance: 1.089e+09\n",
            "  coef_, l1_reg, l2_reg, X, y, max_iter, tol, rng, random, positive\n",
            "/usr/local/lib/python3.7/dist-packages/sklearn/linear_model/_coordinate_descent.py:648: ConvergenceWarning: Objective did not converge. You might want to increase the number of iterations, check the scale of the features or consider increasing regularisation. Duality gap: 7.742e+11, tolerance: 8.896e+08\n",
            "  coef_, l1_reg, l2_reg, X, y, max_iter, tol, rng, random, positive\n",
            "/usr/local/lib/python3.7/dist-packages/sklearn/linear_model/_coordinate_descent.py:648: ConvergenceWarning: Objective did not converge. You might want to increase the number of iterations, check the scale of the features or consider increasing regularisation. Duality gap: 9.261e+11, tolerance: 1.144e+09\n",
            "  coef_, l1_reg, l2_reg, X, y, max_iter, tol, rng, random, positive\n",
            "/usr/local/lib/python3.7/dist-packages/sklearn/linear_model/_coordinate_descent.py:648: ConvergenceWarning: Objective did not converge. You might want to increase the number of iterations, check the scale of the features or consider increasing regularisation. Duality gap: 8.925e+11, tolerance: 1.028e+09\n",
            "  coef_, l1_reg, l2_reg, X, y, max_iter, tol, rng, random, positive\n"
          ]
        },
        {
          "output_type": "stream",
          "name": "stdout",
          "text": [
            "MAE: 156829.15\n",
            "RMSE: 285921.03\n",
            "R2 score: 0.58\n"
          ]
        },
        {
          "output_type": "stream",
          "name": "stderr",
          "text": [
            "/usr/local/lib/python3.7/dist-packages/sklearn/linear_model/_coordinate_descent.py:648: ConvergenceWarning: Objective did not converge. You might want to increase the number of iterations, check the scale of the features or consider increasing regularisation. Duality gap: 4.842e+11, tolerance: 8.110e+08\n",
            "  coef_, l1_reg, l2_reg, X, y, max_iter, tol, rng, random, positive\n",
            "/usr/local/lib/python3.7/dist-packages/sklearn/linear_model/_coordinate_descent.py:648: ConvergenceWarning: Objective did not converge. You might want to increase the number of iterations, check the scale of the features or consider increasing regularisation. Duality gap: 8.297e+11, tolerance: 1.089e+09\n",
            "  coef_, l1_reg, l2_reg, X, y, max_iter, tol, rng, random, positive\n",
            "/usr/local/lib/python3.7/dist-packages/sklearn/linear_model/_coordinate_descent.py:648: ConvergenceWarning: Objective did not converge. You might want to increase the number of iterations, check the scale of the features or consider increasing regularisation. Duality gap: 7.742e+11, tolerance: 8.896e+08\n",
            "  coef_, l1_reg, l2_reg, X, y, max_iter, tol, rng, random, positive\n",
            "/usr/local/lib/python3.7/dist-packages/sklearn/linear_model/_coordinate_descent.py:648: ConvergenceWarning: Objective did not converge. You might want to increase the number of iterations, check the scale of the features or consider increasing regularisation. Duality gap: 9.261e+11, tolerance: 1.144e+09\n",
            "  coef_, l1_reg, l2_reg, X, y, max_iter, tol, rng, random, positive\n",
            "/usr/local/lib/python3.7/dist-packages/sklearn/linear_model/_coordinate_descent.py:648: ConvergenceWarning: Objective did not converge. You might want to increase the number of iterations, check the scale of the features or consider increasing regularisation. Duality gap: 1.030e+12, tolerance: 1.242e+09\n",
            "  coef_, l1_reg, l2_reg, X, y, max_iter, tol, rng, random, positive\n"
          ]
        }
      ]
    },
    {
      "cell_type": "markdown",
      "source": [
        "###Fit Decision Tree Model"
      ],
      "metadata": {
        "id": "fpMK8itr2Xyc"
      }
    },
    {
      "cell_type": "code",
      "source": [
        "from sklearn.tree import DecisionTreeRegressor\n",
        "\n",
        "dt = DecisionTreeRegressor()\n",
        "best_model1=dt.fit(xtrain, ytrain)\n",
        "pred = dt.predict(xtest)\n",
        "eval_regression(dt, pred, xtrain, ytrain, xtest, ytest)\n"
      ],
      "metadata": {
        "colab": {
          "base_uri": "https://localhost:8080/"
        },
        "id": "EQ0Z2BkM2bW4",
        "outputId": "3ee90eff-74bf-4b86-9222-c6182b080774"
      },
      "execution_count": 217,
      "outputs": [
        {
          "output_type": "stream",
          "name": "stdout",
          "text": [
            "MAE: 57931.43\n",
            "RMSE: 144306.15\n",
            "R2 score: 0.89\n"
          ]
        }
      ]
    },
    {
      "cell_type": "markdown",
      "source": [
        "###Fit Random Forest Model"
      ],
      "metadata": {
        "id": "_Y5nXuBb2i3g"
      }
    },
    {
      "cell_type": "code",
      "source": [
        "from sklearn.ensemble import RandomForestRegressor\n",
        "\n",
        "rf = RandomForestRegressor(random_state=104)\n",
        "rf.fit(xtrain, ytrain)\n",
        "pred = rf.predict(xtest)\n",
        "eval_regression(rf, pred, xtrain, ytrain, xtest, ytest)"
      ],
      "metadata": {
        "colab": {
          "base_uri": "https://localhost:8080/"
        },
        "id": "hVqHXSl82fBc",
        "outputId": "012ce59a-1628-4118-cc36-912c9ab2470c"
      },
      "execution_count": 216,
      "outputs": [
        {
          "output_type": "stream",
          "name": "stdout",
          "text": [
            "MAE: 68417.69\n",
            "RMSE: 185451.07\n",
            "R2 score: 0.83\n"
          ]
        }
      ]
    },
    {
      "cell_type": "markdown",
      "source": [
        "###Fit Support Vector Regressor Model"
      ],
      "metadata": {
        "id": "YAdoxA2K3F1x"
      }
    },
    {
      "cell_type": "code",
      "source": [
        "from sklearn.svm import SVR\n",
        "\n",
        "svr = SVR()\n",
        "svr.fit(xtrain, ytrain)\n",
        "pred = svr.predict(xtest)\n",
        "eval_regression(svr, pred, xtrain, ytrain, xtest, ytest)"
      ],
      "metadata": {
        "colab": {
          "base_uri": "https://localhost:8080/"
        },
        "id": "wA8wR8tR3G3J",
        "outputId": "7f79e34a-d8e6-4832-8319-3da52a545552"
      },
      "execution_count": 215,
      "outputs": [
        {
          "output_type": "stream",
          "name": "stdout",
          "text": [
            "MAE: 217495.87\n",
            "RMSE: 470544.33\n",
            "R2 score: -0.12\n"
          ]
        }
      ]
    },
    {
      "cell_type": "markdown",
      "source": [
        "###Save Model"
      ],
      "metadata": {
        "id": "UcbOvBDJ3kMF"
      }
    },
    {
      "cell_type": "code",
      "source": [
        "import pickle\n",
        "pickle.dump(best_model1, open('Desiciontree_model.pkl', 'wb'))\n",
        "loaded_model = pickle.load(open('Desiciontree_model.pkl', 'rb'))\n",
        "result = loaded_model.score(xtest,ytest)\n",
        "print('Model Score : ', str(round(result,2)*100), '%')"
      ],
      "metadata": {
        "colab": {
          "base_uri": "https://localhost:8080/"
        },
        "id": "m0eaYb9B3oLE",
        "outputId": "45ec5e56-800b-41b9-bd66-1dac1f5df755"
      },
      "execution_count": 219,
      "outputs": [
        {
          "output_type": "stream",
          "name": "stdout",
          "text": [
            "Model Score :  89.0 %\n"
          ]
        }
      ]
    },
    {
      "cell_type": "code",
      "source": [
        "print('train accuracy : ', str(round(loaded_model.score(xtrain, ytrain),2)*100), '%')\n",
        "print('test accuracy : ', str(round(loaded_model.score(xtest, ytest),2)*100), '%')"
      ],
      "metadata": {
        "colab": {
          "base_uri": "https://localhost:8080/"
        },
        "id": "alUejftNDI_d",
        "outputId": "25aca761-c3c2-4a92-ce92-b0f309563fa3"
      },
      "execution_count": 220,
      "outputs": [
        {
          "output_type": "stream",
          "name": "stdout",
          "text": [
            "train accuracy :  100.0 %\n",
            "test accuracy :  89.0 %\n"
          ]
        }
      ]
    },
    {
      "cell_type": "markdown",
      "source": [
        "The model we chose has very little tendency to overfitting, but we think it can be tolerated within normal reasonable limits"
      ],
      "metadata": {
        "id": "FKQvUAIPDiTS"
      }
    },
    {
      "cell_type": "markdown",
      "source": [
        "##Conclusion\n",
        "Based on the experiments that have been carried out, desicion tree is good for determining the views of Youtube videos.\n",
        "MAE: 57931.43\n",
        "RMSE: 144306.15\n",
        "R2 score: 0.89"
      ],
      "metadata": {
        "id": "QUu6I8dnDlgv"
      }
    }
  ]
}